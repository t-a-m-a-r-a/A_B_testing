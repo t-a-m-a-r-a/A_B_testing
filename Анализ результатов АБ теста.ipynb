{
 "cells": [
  {
   "cell_type": "markdown",
   "id": "0fb2e4ae",
   "metadata": {
    "id": "136ac689"
   },
   "source": [
    "# Анализ результатов АБ теста"
   ]
  },
  {
   "cell_type": "markdown",
   "id": "3ddff2a1",
   "metadata": {},
   "source": [
    "### Условие\n",
    "\n",
    "Одной из основных задач аналитика в нашей команде является корректное проведение экспериментов. Для этого мы применяем метод A/B–тестирования. В ходе тестирования одной гипотезы целевой группе была предложена новая механика оплаты услуг на сайте, у контрольной группы оставалась базовая механика. В качестве задания Вам необходимо проанализировать итоги эксперимента и сделать вывод, стоит ли запускать новую механику оплаты на всех пользователей."
   ]
  },
  {
   "cell_type": "markdown",
   "id": "46e3cc6f",
   "metadata": {},
   "source": [
    "### Вопросы\n",
    "\n",
    "* На какие метрики Вы смотрите в ходе анализа и почему?\n",
    "* Имеются ли различия в показателях и с чем они могут быть связаны?\n",
    "* Являются ли эти различия статистически значимыми?\n",
    "* Стоит ли запускать новую механику на всех пользователей?"
   ]
  },
  {
   "cell_type": "markdown",
   "id": "2d27ab6e",
   "metadata": {
    "id": "d24597fe"
   },
   "source": [
    "### Важные уточнения\n",
    "\n",
    "На момент выполнения анализа отсутствует важная информация:\n",
    "\n",
    " - Цель внедрения новой механики оплаты услуг на сайте и проведения а/б теста.\n",
    "\n",
    " Сделали оплату проще и предполагается, что пользователи должны охотнее жать кнопку \"оплатить\"? Или в новой механике оплаты чек  автоматически увеличивается на 30% и надо проверить, не отпугнет ли это пользователей?\n",
    "\n",
    " При необходимости скорректировать метрики и подход к их оценке.\n",
    "\n",
    "\n",
    " - 27% пользователей совершили покупку не заходя на платформу (149 из 541 пользователя есть в таблице checks, но отсутствуют в таблице active_studs).\n",
    "\n",
    " Необходимо знать причину (автоматические списания, зависшие платежи или ошибки при сборе данных?) и при необходимости скорректировать исходные данные.\n",
    "\n",
    "\n",
    "**Анализ произведен исходя из следующих условий:**\n",
    "1. каждый пользователь однозначно отнесен к одной из групп (А или В),\n",
    "2. участие пользователя в тесте определяется его входом на платформу в дни проведения эксперимента. Другими словами, <p style=\"color:red;\"> пользователи совершившие оплату в дни проведения эксперимента, но не зашедшие на платформу исключены из анализа.</p>\n",
    "3. метрики выбраны из расчета самой распространенной конечной цели от любых нововведений - увеличение дохода."
   ]
  },
  {
   "cell_type": "markdown",
   "id": "b1df416d",
   "metadata": {
    "id": "5e0f8b61"
   },
   "source": [
    "### Проверка и предобработка данных"
   ]
  },
  {
   "cell_type": "code",
   "execution_count": 22,
   "id": "d8984078",
   "metadata": {
    "id": "e3ddd3aa"
   },
   "outputs": [],
   "source": [
    "import pandas as pd\n",
    "import matplotlib.pyplot as plt\n",
    "import pandahouse as ph\n",
    "import numpy as np\n",
    "import seaborn as sns\n",
    "import scipy. stats"
   ]
  },
  {
   "cell_type": "code",
   "execution_count": 23,
   "id": "4f7a1024",
   "metadata": {},
   "outputs": [],
   "source": [
    "groups_url = '/mnt/HC_Volume_18315164/home-jupyter/jupyter-t-shashkina-38/final_project/Проект_2_groups.csv'"
   ]
  },
  {
   "cell_type": "code",
   "execution_count": 24,
   "id": "af53791d",
   "metadata": {},
   "outputs": [],
   "source": [
    "groups_add_url = '/mnt/HC_Volume_18315164/home-jupyter/jupyter-t-shashkina-38/final_project/Проект_2_group_add.csv'"
   ]
  },
  {
   "cell_type": "code",
   "execution_count": 25,
   "id": "a882cf82",
   "metadata": {},
   "outputs": [],
   "source": [
    "active_studs_url = '/mnt/HC_Volume_18315164/home-jupyter/jupyter-t-shashkina-38/final_project/Проект_2_active_studs.csv'"
   ]
  },
  {
   "cell_type": "code",
   "execution_count": 26,
   "id": "d377ac08",
   "metadata": {},
   "outputs": [],
   "source": [
    "checks_url = '/mnt/HC_Volume_18315164/home-jupyter/jupyter-t-shashkina-38/final_project/Проект_2_checks.csv'"
   ]
  },
  {
   "cell_type": "code",
   "execution_count": 27,
   "id": "7b7403a7",
   "metadata": {
    "id": "f81bbf4c"
   },
   "outputs": [],
   "source": [
    "groups = pd.read_csv(groups_url, sep=';')"
   ]
  },
  {
   "cell_type": "code",
   "execution_count": 28,
   "id": "cd321eeb",
   "metadata": {
    "colab": {
     "base_uri": "https://localhost:8080/",
     "height": 112
    },
    "id": "375ad8d5",
    "outputId": "bb529c25-a4e7-44e1-d814-176d52a42f48"
   },
   "outputs": [
    {
     "data": {
      "text/html": [
       "<div>\n",
       "<style scoped>\n",
       "    .dataframe tbody tr th:only-of-type {\n",
       "        vertical-align: middle;\n",
       "    }\n",
       "\n",
       "    .dataframe tbody tr th {\n",
       "        vertical-align: top;\n",
       "    }\n",
       "\n",
       "    .dataframe thead th {\n",
       "        text-align: right;\n",
       "    }\n",
       "</style>\n",
       "<table border=\"1\" class=\"dataframe\">\n",
       "  <thead>\n",
       "    <tr style=\"text-align: right;\">\n",
       "      <th></th>\n",
       "      <th>id</th>\n",
       "      <th>grp</th>\n",
       "    </tr>\n",
       "  </thead>\n",
       "  <tbody>\n",
       "    <tr>\n",
       "      <th>0</th>\n",
       "      <td>1489</td>\n",
       "      <td>B</td>\n",
       "    </tr>\n",
       "    <tr>\n",
       "      <th>1</th>\n",
       "      <td>1627</td>\n",
       "      <td>A</td>\n",
       "    </tr>\n",
       "  </tbody>\n",
       "</table>\n",
       "</div>"
      ],
      "text/plain": [
       "     id grp\n",
       "0  1489   B\n",
       "1  1627   A"
      ]
     },
     "execution_count": 28,
     "metadata": {},
     "output_type": "execute_result"
    }
   ],
   "source": [
    "groups.head(2)  # просмотр данных"
   ]
  },
  {
   "cell_type": "code",
   "execution_count": 29,
   "id": "8ff25d86",
   "metadata": {
    "colab": {
     "base_uri": "https://localhost:8080/"
    },
    "id": "847c2184",
    "outputId": "892fe42c-cd72-4277-f229-ccb3a1837f29"
   },
   "outputs": [
    {
     "name": "stdout",
     "output_type": "stream",
     "text": [
      "<class 'pandas.core.frame.DataFrame'>\n",
      "RangeIndex: 74484 entries, 0 to 74483\n",
      "Data columns (total 2 columns):\n",
      " #   Column  Non-Null Count  Dtype \n",
      "---  ------  --------------  ----- \n",
      " 0   id      74484 non-null  int64 \n",
      " 1   grp     74484 non-null  object\n",
      "dtypes: int64(1), object(1)\n",
      "memory usage: 1.1+ MB\n"
     ]
    }
   ],
   "source": [
    "groups.info()  # проверка пропусков и типов данных"
   ]
  },
  {
   "cell_type": "code",
   "execution_count": 30,
   "id": "a2c66ed0",
   "metadata": {
    "colab": {
     "base_uri": "https://localhost:8080/"
    },
    "id": "aa9b9e7f",
    "outputId": "82a8dfd6-ec8b-455d-bebe-c967bcc9b4dd"
   },
   "outputs": [
    {
     "data": {
      "text/plain": [
       "id     74484\n",
       "grp        2\n",
       "dtype: int64"
      ]
     },
     "execution_count": 30,
     "metadata": {},
     "output_type": "execute_result"
    }
   ],
   "source": [
    "groups.nunique()  # проверка уникальных значений"
   ]
  },
  {
   "cell_type": "markdown",
   "id": "0448ab64",
   "metadata": {
    "id": "6f7edca8"
   },
   "source": [
    "Таблица groups не содержит пропуски, все id пользователей уникальны и имеют формат целого числа, каждый пользователь однозначно отнесен к одной из групп (А или В)."
   ]
  },
  {
   "cell_type": "code",
   "execution_count": 31,
   "id": "251cb0b6",
   "metadata": {
    "id": "6b708b24"
   },
   "outputs": [],
   "source": [
    "groups_add = pd.read_csv(groups_add_url)"
   ]
  },
  {
   "cell_type": "code",
   "execution_count": 32,
   "id": "ee87a3a5",
   "metadata": {
    "colab": {
     "base_uri": "https://localhost:8080/",
     "height": 112
    },
    "id": "24cc474b",
    "outputId": "77074e51-b202-4fcd-d639-9953c2ea0945"
   },
   "outputs": [
    {
     "data": {
      "text/html": [
       "<div>\n",
       "<style scoped>\n",
       "    .dataframe tbody tr th:only-of-type {\n",
       "        vertical-align: middle;\n",
       "    }\n",
       "\n",
       "    .dataframe tbody tr th {\n",
       "        vertical-align: top;\n",
       "    }\n",
       "\n",
       "    .dataframe thead th {\n",
       "        text-align: right;\n",
       "    }\n",
       "</style>\n",
       "<table border=\"1\" class=\"dataframe\">\n",
       "  <thead>\n",
       "    <tr style=\"text-align: right;\">\n",
       "      <th></th>\n",
       "      <th>id</th>\n",
       "      <th>grp</th>\n",
       "    </tr>\n",
       "  </thead>\n",
       "  <tbody>\n",
       "    <tr>\n",
       "      <th>0</th>\n",
       "      <td>5694584</td>\n",
       "      <td>B</td>\n",
       "    </tr>\n",
       "    <tr>\n",
       "      <th>1</th>\n",
       "      <td>5694830</td>\n",
       "      <td>B</td>\n",
       "    </tr>\n",
       "  </tbody>\n",
       "</table>\n",
       "</div>"
      ],
      "text/plain": [
       "        id grp\n",
       "0  5694584   B\n",
       "1  5694830   B"
      ]
     },
     "execution_count": 32,
     "metadata": {},
     "output_type": "execute_result"
    }
   ],
   "source": [
    "groups_add.head(2)  # просмотр данных"
   ]
  },
  {
   "cell_type": "code",
   "execution_count": 33,
   "id": "f68f6058",
   "metadata": {
    "colab": {
     "base_uri": "https://localhost:8080/"
    },
    "id": "7acfdac1",
    "outputId": "5903f4dc-b9ce-4727-db2a-a4d2cccef1b5"
   },
   "outputs": [
    {
     "name": "stdout",
     "output_type": "stream",
     "text": [
      "<class 'pandas.core.frame.DataFrame'>\n",
      "RangeIndex: 92 entries, 0 to 91\n",
      "Data columns (total 2 columns):\n",
      " #   Column  Non-Null Count  Dtype \n",
      "---  ------  --------------  ----- \n",
      " 0   id      92 non-null     int64 \n",
      " 1   grp     92 non-null     object\n",
      "dtypes: int64(1), object(1)\n",
      "memory usage: 1.6+ KB\n"
     ]
    }
   ],
   "source": [
    "groups_add.info()  # проверка пропусков и типов данных"
   ]
  },
  {
   "cell_type": "code",
   "execution_count": 34,
   "id": "072f715b",
   "metadata": {
    "colab": {
     "base_uri": "https://localhost:8080/"
    },
    "id": "1d31053a",
    "outputId": "cefb3bb9-e74d-45a2-b237-ebf4fbea1a45"
   },
   "outputs": [
    {
     "data": {
      "text/plain": [
       "id     92\n",
       "grp     2\n",
       "dtype: int64"
      ]
     },
     "execution_count": 34,
     "metadata": {},
     "output_type": "execute_result"
    }
   ],
   "source": [
    "groups_add.nunique()  # проверка уникальных значений"
   ]
  },
  {
   "cell_type": "markdown",
   "id": "97e95e31",
   "metadata": {
    "id": "5861fe9b"
   },
   "source": [
    "Таблица groups_add не содержит пропуски, все id пользователей уникальны и имеют формат целого числа, каждый пользователь однозначно отнесен к одной из групп (А или В)."
   ]
  },
  {
   "cell_type": "code",
   "execution_count": 35,
   "id": "7052490c",
   "metadata": {
    "id": "8fcb4ff5"
   },
   "outputs": [],
   "source": [
    "active_studs = pd.read_csv(active_studs_url)"
   ]
  },
  {
   "cell_type": "code",
   "execution_count": 36,
   "id": "5591ea2a",
   "metadata": {
    "colab": {
     "base_uri": "https://localhost:8080/",
     "height": 112
    },
    "id": "e6b7b9a4",
    "outputId": "939c3d8b-5e6f-4e9d-c42d-0e7a9e99bd51"
   },
   "outputs": [
    {
     "data": {
      "text/html": [
       "<div>\n",
       "<style scoped>\n",
       "    .dataframe tbody tr th:only-of-type {\n",
       "        vertical-align: middle;\n",
       "    }\n",
       "\n",
       "    .dataframe tbody tr th {\n",
       "        vertical-align: top;\n",
       "    }\n",
       "\n",
       "    .dataframe thead th {\n",
       "        text-align: right;\n",
       "    }\n",
       "</style>\n",
       "<table border=\"1\" class=\"dataframe\">\n",
       "  <thead>\n",
       "    <tr style=\"text-align: right;\">\n",
       "      <th></th>\n",
       "      <th>student_id</th>\n",
       "    </tr>\n",
       "  </thead>\n",
       "  <tbody>\n",
       "    <tr>\n",
       "      <th>0</th>\n",
       "      <td>581585</td>\n",
       "    </tr>\n",
       "    <tr>\n",
       "      <th>1</th>\n",
       "      <td>5723133</td>\n",
       "    </tr>\n",
       "  </tbody>\n",
       "</table>\n",
       "</div>"
      ],
      "text/plain": [
       "   student_id\n",
       "0      581585\n",
       "1     5723133"
      ]
     },
     "execution_count": 36,
     "metadata": {},
     "output_type": "execute_result"
    }
   ],
   "source": [
    "active_studs.head(2)  # просмотр данных"
   ]
  },
  {
   "cell_type": "code",
   "execution_count": 37,
   "id": "1141d27b",
   "metadata": {
    "colab": {
     "base_uri": "https://localhost:8080/"
    },
    "id": "96c44ab9",
    "outputId": "5d65fc2a-0897-42ac-da2d-d2f7c131b862"
   },
   "outputs": [
    {
     "name": "stdout",
     "output_type": "stream",
     "text": [
      "<class 'pandas.core.frame.DataFrame'>\n",
      "RangeIndex: 8341 entries, 0 to 8340\n",
      "Data columns (total 1 columns):\n",
      " #   Column      Non-Null Count  Dtype\n",
      "---  ------      --------------  -----\n",
      " 0   student_id  8341 non-null   int64\n",
      "dtypes: int64(1)\n",
      "memory usage: 65.3 KB\n"
     ]
    }
   ],
   "source": [
    "active_studs.info()  # проверка пропусков и типов данных"
   ]
  },
  {
   "cell_type": "code",
   "execution_count": 38,
   "id": "4efbb5d5",
   "metadata": {
    "colab": {
     "base_uri": "https://localhost:8080/"
    },
    "id": "68f5b8e7",
    "outputId": "dad1cbd3-a3f6-4ec4-d6bf-3db1ad9a1fa7"
   },
   "outputs": [
    {
     "data": {
      "text/plain": [
       "student_id    8341\n",
       "dtype: int64"
      ]
     },
     "execution_count": 38,
     "metadata": {},
     "output_type": "execute_result"
    }
   ],
   "source": [
    "active_studs.nunique()  # проверка уникальных значений"
   ]
  },
  {
   "cell_type": "markdown",
   "id": "a13c5df7",
   "metadata": {
    "id": "19cd7788"
   },
   "source": [
    "Таблица active_studs не содержит пропуски, все id пользователей уникальны и имеют формат целого числа, но название колонки отличается от названия аналогичной колонки в таблицах groups и groups_add."
   ]
  },
  {
   "cell_type": "code",
   "execution_count": 39,
   "id": "47474cb3",
   "metadata": {
    "id": "d1440b48"
   },
   "outputs": [],
   "source": [
    "checks = pd.read_csv(checks_url, sep=';')"
   ]
  },
  {
   "cell_type": "code",
   "execution_count": 40,
   "id": "40a84053",
   "metadata": {
    "colab": {
     "base_uri": "https://localhost:8080/",
     "height": 112
    },
    "id": "be33d135",
    "outputId": "002b1d64-a42e-4ce5-e19a-83c6e4f6d732"
   },
   "outputs": [
    {
     "data": {
      "text/html": [
       "<div>\n",
       "<style scoped>\n",
       "    .dataframe tbody tr th:only-of-type {\n",
       "        vertical-align: middle;\n",
       "    }\n",
       "\n",
       "    .dataframe tbody tr th {\n",
       "        vertical-align: top;\n",
       "    }\n",
       "\n",
       "    .dataframe thead th {\n",
       "        text-align: right;\n",
       "    }\n",
       "</style>\n",
       "<table border=\"1\" class=\"dataframe\">\n",
       "  <thead>\n",
       "    <tr style=\"text-align: right;\">\n",
       "      <th></th>\n",
       "      <th>student_id</th>\n",
       "      <th>rev</th>\n",
       "    </tr>\n",
       "  </thead>\n",
       "  <tbody>\n",
       "    <tr>\n",
       "      <th>0</th>\n",
       "      <td>1627</td>\n",
       "      <td>990.0</td>\n",
       "    </tr>\n",
       "    <tr>\n",
       "      <th>1</th>\n",
       "      <td>3185</td>\n",
       "      <td>690.0</td>\n",
       "    </tr>\n",
       "  </tbody>\n",
       "</table>\n",
       "</div>"
      ],
      "text/plain": [
       "   student_id    rev\n",
       "0        1627  990.0\n",
       "1        3185  690.0"
      ]
     },
     "execution_count": 40,
     "metadata": {},
     "output_type": "execute_result"
    }
   ],
   "source": [
    "checks.head(2)  # просмотр данных"
   ]
  },
  {
   "cell_type": "code",
   "execution_count": 41,
   "id": "9fb050cf",
   "metadata": {
    "colab": {
     "base_uri": "https://localhost:8080/"
    },
    "id": "1ccf620d",
    "outputId": "9d2a3cb6-fa1f-482d-f96e-16e20253bbc6",
    "scrolled": true
   },
   "outputs": [
    {
     "name": "stdout",
     "output_type": "stream",
     "text": [
      "<class 'pandas.core.frame.DataFrame'>\n",
      "RangeIndex: 541 entries, 0 to 540\n",
      "Data columns (total 2 columns):\n",
      " #   Column      Non-Null Count  Dtype  \n",
      "---  ------      --------------  -----  \n",
      " 0   student_id  541 non-null    int64  \n",
      " 1   rev         541 non-null    float64\n",
      "dtypes: float64(1), int64(1)\n",
      "memory usage: 8.6 KB\n"
     ]
    }
   ],
   "source": [
    "checks.info()  # проверка пропусков и типов данных"
   ]
  },
  {
   "cell_type": "code",
   "execution_count": 42,
   "id": "e865f27e",
   "metadata": {
    "colab": {
     "base_uri": "https://localhost:8080/"
    },
    "id": "015c4eee",
    "outputId": "9823387d-6ea0-4c01-d6ac-ed11a4d653b5"
   },
   "outputs": [
    {
     "data": {
      "text/plain": [
       "541"
      ]
     },
     "execution_count": 42,
     "metadata": {},
     "output_type": "execute_result"
    }
   ],
   "source": [
    "checks.student_id.nunique()  # проверка уникальных значений"
   ]
  },
  {
   "cell_type": "markdown",
   "id": "fdad1994",
   "metadata": {
    "id": "24fbed60"
   },
   "source": [
    "Таблица checks не содержит пропуски, все id пользователей уникальны и имеют формат целого числа, но название колонки отличается от названия аналогичной колонки в таблицах groups и groups_add. Сумма платежа имеет формат числа с плавающей запятой."
   ]
  },
  {
   "cell_type": "code",
   "execution_count": 43,
   "id": "822660a2",
   "metadata": {
    "colab": {
     "base_uri": "https://localhost:8080/"
    },
    "id": "5773142a",
    "outputId": "d2ff071a-5b3a-4632-a533-a7b0336c3f35"
   },
   "outputs": [],
   "source": [
    "groups_full = groups.append(groups_add, ignore_index=True)  # объединение таблиц groups и groups_add."
   ]
  },
  {
   "cell_type": "code",
   "execution_count": 44,
   "id": "53f39dd7",
   "metadata": {
    "colab": {
     "base_uri": "https://localhost:8080/"
    },
    "id": "eb03af43",
    "outputId": "0f10fb7b-330d-4a07-89ba-ae9a9d730ed5"
   },
   "outputs": [
    {
     "name": "stdout",
     "output_type": "stream",
     "text": [
      "<class 'pandas.core.frame.DataFrame'>\n",
      "RangeIndex: 74576 entries, 0 to 74575\n",
      "Data columns (total 2 columns):\n",
      " #   Column  Non-Null Count  Dtype \n",
      "---  ------  --------------  ----- \n",
      " 0   id      74576 non-null  int64 \n",
      " 1   grp     74576 non-null  object\n",
      "dtypes: int64(1), object(1)\n",
      "memory usage: 1.1+ MB\n"
     ]
    }
   ],
   "source": [
    "groups_full.info()"
   ]
  },
  {
   "cell_type": "code",
   "execution_count": 45,
   "id": "6fbd68f9",
   "metadata": {
    "colab": {
     "base_uri": "https://localhost:8080/"
    },
    "id": "65871b19",
    "outputId": "3f492cd7-5a48-4eb8-caa0-385f7f3d4cda"
   },
   "outputs": [
    {
     "data": {
      "text/plain": [
       "set()"
      ]
     },
     "execution_count": 45,
     "metadata": {},
     "output_type": "execute_result"
    }
   ],
   "source": [
    "grp_A = set(groups_full.query('grp==\"A\"').id)\n",
    "grp_B = set(groups_full.query('grp==\"B\"').id)\n",
    "\n",
    "grp_A.intersection(grp_B)  # проверка пересечений в группах"
   ]
  },
  {
   "cell_type": "code",
   "execution_count": 46,
   "id": "b5401618",
   "metadata": {
    "id": "e185f059"
   },
   "outputs": [],
   "source": [
    "active_studs_extended = active_studs.merge(checks, how='left', on='student_id')\n",
    "# объединение данных об активных пользователях с данными об оплатах"
   ]
  },
  {
   "cell_type": "code",
   "execution_count": 47,
   "id": "3719cfef",
   "metadata": {
    "colab": {
     "base_uri": "https://localhost:8080/"
    },
    "id": "2709b3fe",
    "outputId": "f269691b-13c0-472e-91b9-f6038c3d2d2d"
   },
   "outputs": [
    {
     "name": "stdout",
     "output_type": "stream",
     "text": [
      "<class 'pandas.core.frame.DataFrame'>\n",
      "Int64Index: 8341 entries, 0 to 8340\n",
      "Data columns (total 2 columns):\n",
      " #   Column      Non-Null Count  Dtype  \n",
      "---  ------      --------------  -----  \n",
      " 0   student_id  8341 non-null   int64  \n",
      " 1   rev         392 non-null    float64\n",
      "dtypes: float64(1), int64(1)\n",
      "memory usage: 195.5 KB\n"
     ]
    }
   ],
   "source": [
    "active_studs_extended.info()"
   ]
  },
  {
   "cell_type": "markdown",
   "id": "ee0d243c",
   "metadata": {
    "id": "cf4508e8"
   },
   "source": [
    "После объединения данных уменьшилось число оплат. Таким образом 149 пользователей совершили покупку не заходя на платформу."
   ]
  },
  {
   "cell_type": "code",
   "execution_count": 48,
   "id": "789d83dd",
   "metadata": {
    "id": "8bbb5c78"
   },
   "outputs": [],
   "source": [
    "not_active_payed = checks.merge(active_studs, how='left', on='student_id', indicator=True) \\\n",
    "    .query(\"_merge == 'left_only'\") \\\n",
    "    .drop('_merge', axis=1).student_id  # список пользователей, не участвующих в анализе"
   ]
  },
  {
   "cell_type": "code",
   "execution_count": 49,
   "id": "623b6454",
   "metadata": {
    "id": "83c6476f"
   },
   "outputs": [],
   "source": [
    "active_studs_extended = active_studs_extended.merge(groups_full, how='left', left_on='student_id', right_on='id')\n",
    "# добавление информации о принадлежности к одной из групп"
   ]
  },
  {
   "cell_type": "code",
   "execution_count": 25,
   "id": "bc1efbe8",
   "metadata": {
    "colab": {
     "base_uri": "https://localhost:8080/"
    },
    "id": "90a329a9",
    "outputId": "9c0929c9-42b6-4190-a30b-38e771456b72"
   },
   "outputs": [
    {
     "name": "stdout",
     "output_type": "stream",
     "text": [
      "<class 'pandas.core.frame.DataFrame'>\n",
      "Int64Index: 8341 entries, 0 to 8340\n",
      "Data columns (total 4 columns):\n",
      " #   Column      Non-Null Count  Dtype  \n",
      "---  ------      --------------  -----  \n",
      " 0   student_id  8341 non-null   int64  \n",
      " 1   rev         392 non-null    float64\n",
      " 2   id          8341 non-null   int64  \n",
      " 3   grp         8341 non-null   object \n",
      "dtypes: float64(1), int64(2), object(1)\n",
      "memory usage: 325.8+ KB\n"
     ]
    }
   ],
   "source": [
    "active_studs_extended.info()  # проверка на пропуски"
   ]
  },
  {
   "cell_type": "markdown",
   "id": "4b55384f",
   "metadata": {
    "id": "a11aaab1"
   },
   "source": [
    "### Выбор метрик"
   ]
  },
  {
   "cell_type": "markdown",
   "id": "ca49781b",
   "metadata": {
    "id": "120b58be"
   },
   "source": [
    "Исходя из конечной цели введения новой механики оплаты - повышения дохода, ожидаемый эффект - увеличение количества и/или суммы покупок.\n",
    "\n",
    "Основными метриками являются:\n",
    "\n",
    "**Конверсия из посещения платформы в покупку CR** = (Количество покупок / Число активных пользователей) * 100%.\n",
    "    \n",
    "**Средний доход на платящего пользователя ARPPU** (Будет совпадать со средним чеком, так как каждый покупатель совершил только одну покупку) = (Доход / Количество покупок)\n",
    "\n",
    "Дополнительно будут рассмотрены метрики:\n",
    "\n",
    "**Cредний доход с активного пользователя ARPAU** = (Доход / Число активных пользователей)."
   ]
  },
  {
   "cell_type": "markdown",
   "id": "4e1578a4",
   "metadata": {
    "id": "41eae182"
   },
   "source": [
    "## Расчет и оценка метрик"
   ]
  },
  {
   "cell_type": "markdown",
   "id": "99e7236e",
   "metadata": {
    "id": "12a57fa1"
   },
   "source": [
    "#### CR to payment"
   ]
  },
  {
   "cell_type": "code",
   "execution_count": 26,
   "id": "9dc1731a",
   "metadata": {
    "id": "7cc56536"
   },
   "outputs": [],
   "source": [
    "active_studs_extended['payment'] = active_studs_extended.rev.notna()\n",
    "# новая колонка со статусом оплаты - произведена (TRUE) или нет (FALSE)"
   ]
  },
  {
   "cell_type": "code",
   "execution_count": 27,
   "id": "3dfc2327",
   "metadata": {
    "id": "70abac3b"
   },
   "outputs": [],
   "source": [
    "active_studs_extended.payment = active_studs_extended.payment.astype(int)\n",
    "# в итоговой таблице статус оплаты обозначен цифрами \"0\" - оплата не произведена, \"1\" - оплата произведена"
   ]
  },
  {
   "cell_type": "code",
   "execution_count": 28,
   "id": "a38d3d6c",
   "metadata": {
    "id": "b68d18d6"
   },
   "outputs": [],
   "source": [
    "active_studs_extended.rev = active_studs_extended.rev.fillna(0)  # заполнение пропусков в сумме оплаты нулями"
   ]
  },
  {
   "cell_type": "code",
   "execution_count": 29,
   "id": "ec90b71f",
   "metadata": {
    "colab": {
     "base_uri": "https://localhost:8080/",
     "height": 112
    },
    "id": "0ba50159",
    "outputId": "ffde0709-07ca-4b30-cd03-6d290724b2cd"
   },
   "outputs": [
    {
     "data": {
      "text/html": [
       "\n",
       "\n",
       "  <div id=\"df-cce89bba-1949-4d5b-abb9-21e3040d32ac\">\n",
       "    <div class=\"colab-df-container\">\n",
       "      <div>\n",
       "<style scoped>\n",
       "    .dataframe tbody tr th:only-of-type {\n",
       "        vertical-align: middle;\n",
       "    }\n",
       "\n",
       "    .dataframe tbody tr th {\n",
       "        vertical-align: top;\n",
       "    }\n",
       "\n",
       "    .dataframe thead th {\n",
       "        text-align: right;\n",
       "    }\n",
       "</style>\n",
       "<table border=\"1\" class=\"dataframe\">\n",
       "  <thead>\n",
       "    <tr style=\"text-align: right;\">\n",
       "      <th></th>\n",
       "      <th>student_id</th>\n",
       "      <th>rev</th>\n",
       "      <th>id</th>\n",
       "      <th>grp</th>\n",
       "      <th>payment</th>\n",
       "    </tr>\n",
       "  </thead>\n",
       "  <tbody>\n",
       "    <tr>\n",
       "      <th>0</th>\n",
       "      <td>581585</td>\n",
       "      <td>0.0</td>\n",
       "      <td>581585</td>\n",
       "      <td>A</td>\n",
       "      <td>0</td>\n",
       "    </tr>\n",
       "    <tr>\n",
       "      <th>1</th>\n",
       "      <td>5723133</td>\n",
       "      <td>0.0</td>\n",
       "      <td>5723133</td>\n",
       "      <td>A</td>\n",
       "      <td>0</td>\n",
       "    </tr>\n",
       "  </tbody>\n",
       "</table>\n",
       "</div>\n",
       "      <button class=\"colab-df-convert\" onclick=\"convertToInteractive('df-cce89bba-1949-4d5b-abb9-21e3040d32ac')\"\n",
       "              title=\"Convert this dataframe to an interactive table.\"\n",
       "              style=\"display:none;\">\n",
       "\n",
       "  <svg xmlns=\"http://www.w3.org/2000/svg\" height=\"24px\"viewBox=\"0 0 24 24\"\n",
       "       width=\"24px\">\n",
       "    <path d=\"M0 0h24v24H0V0z\" fill=\"none\"/>\n",
       "    <path d=\"M18.56 5.44l.94 2.06.94-2.06 2.06-.94-2.06-.94-.94-2.06-.94 2.06-2.06.94zm-11 1L8.5 8.5l.94-2.06 2.06-.94-2.06-.94L8.5 2.5l-.94 2.06-2.06.94zm10 10l.94 2.06.94-2.06 2.06-.94-2.06-.94-.94-2.06-.94 2.06-2.06.94z\"/><path d=\"M17.41 7.96l-1.37-1.37c-.4-.4-.92-.59-1.43-.59-.52 0-1.04.2-1.43.59L10.3 9.45l-7.72 7.72c-.78.78-.78 2.05 0 2.83L4 21.41c.39.39.9.59 1.41.59.51 0 1.02-.2 1.41-.59l7.78-7.78 2.81-2.81c.8-.78.8-2.07 0-2.86zM5.41 20L4 18.59l7.72-7.72 1.47 1.35L5.41 20z\"/>\n",
       "  </svg>\n",
       "      </button>\n",
       "\n",
       "\n",
       "\n",
       "    <div id=\"df-d0206fe8-fbbd-45b2-9ee6-c49be99c5b9a\">\n",
       "      <button class=\"colab-df-quickchart\" onclick=\"quickchart('df-d0206fe8-fbbd-45b2-9ee6-c49be99c5b9a')\"\n",
       "              title=\"Suggest charts.\"\n",
       "              style=\"display:none;\">\n",
       "\n",
       "<svg xmlns=\"http://www.w3.org/2000/svg\" height=\"24px\"viewBox=\"0 0 24 24\"\n",
       "     width=\"24px\">\n",
       "    <g>\n",
       "        <path d=\"M19 3H5c-1.1 0-2 .9-2 2v14c0 1.1.9 2 2 2h14c1.1 0 2-.9 2-2V5c0-1.1-.9-2-2-2zM9 17H7v-7h2v7zm4 0h-2V7h2v10zm4 0h-2v-4h2v4z\"/>\n",
       "    </g>\n",
       "</svg>\n",
       "      </button>\n",
       "    </div>\n",
       "\n",
       "<style>\n",
       "  .colab-df-quickchart {\n",
       "    background-color: #E8F0FE;\n",
       "    border: none;\n",
       "    border-radius: 50%;\n",
       "    cursor: pointer;\n",
       "    display: none;\n",
       "    fill: #1967D2;\n",
       "    height: 32px;\n",
       "    padding: 0 0 0 0;\n",
       "    width: 32px;\n",
       "  }\n",
       "\n",
       "  .colab-df-quickchart:hover {\n",
       "    background-color: #E2EBFA;\n",
       "    box-shadow: 0px 1px 2px rgba(60, 64, 67, 0.3), 0px 1px 3px 1px rgba(60, 64, 67, 0.15);\n",
       "    fill: #174EA6;\n",
       "  }\n",
       "\n",
       "  [theme=dark] .colab-df-quickchart {\n",
       "    background-color: #3B4455;\n",
       "    fill: #D2E3FC;\n",
       "  }\n",
       "\n",
       "  [theme=dark] .colab-df-quickchart:hover {\n",
       "    background-color: #434B5C;\n",
       "    box-shadow: 0px 1px 3px 1px rgba(0, 0, 0, 0.15);\n",
       "    filter: drop-shadow(0px 1px 2px rgba(0, 0, 0, 0.3));\n",
       "    fill: #FFFFFF;\n",
       "  }\n",
       "</style>\n",
       "\n",
       "    <script>\n",
       "      async function quickchart(key) {\n",
       "        const containerElement = document.querySelector('#' + key);\n",
       "        const charts = await google.colab.kernel.invokeFunction(\n",
       "            'suggestCharts', [key], {});\n",
       "      }\n",
       "    </script>\n",
       "\n",
       "      <script>\n",
       "\n",
       "function displayQuickchartButton(domScope) {\n",
       "  let quickchartButtonEl =\n",
       "    domScope.querySelector('#df-d0206fe8-fbbd-45b2-9ee6-c49be99c5b9a button.colab-df-quickchart');\n",
       "  quickchartButtonEl.style.display =\n",
       "    google.colab.kernel.accessAllowed ? 'block' : 'none';\n",
       "}\n",
       "\n",
       "        displayQuickchartButton(document);\n",
       "      </script>\n",
       "      <style>\n",
       "    .colab-df-container {\n",
       "      display:flex;\n",
       "      flex-wrap:wrap;\n",
       "      gap: 12px;\n",
       "    }\n",
       "\n",
       "    .colab-df-convert {\n",
       "      background-color: #E8F0FE;\n",
       "      border: none;\n",
       "      border-radius: 50%;\n",
       "      cursor: pointer;\n",
       "      display: none;\n",
       "      fill: #1967D2;\n",
       "      height: 32px;\n",
       "      padding: 0 0 0 0;\n",
       "      width: 32px;\n",
       "    }\n",
       "\n",
       "    .colab-df-convert:hover {\n",
       "      background-color: #E2EBFA;\n",
       "      box-shadow: 0px 1px 2px rgba(60, 64, 67, 0.3), 0px 1px 3px 1px rgba(60, 64, 67, 0.15);\n",
       "      fill: #174EA6;\n",
       "    }\n",
       "\n",
       "    [theme=dark] .colab-df-convert {\n",
       "      background-color: #3B4455;\n",
       "      fill: #D2E3FC;\n",
       "    }\n",
       "\n",
       "    [theme=dark] .colab-df-convert:hover {\n",
       "      background-color: #434B5C;\n",
       "      box-shadow: 0px 1px 3px 1px rgba(0, 0, 0, 0.15);\n",
       "      filter: drop-shadow(0px 1px 2px rgba(0, 0, 0, 0.3));\n",
       "      fill: #FFFFFF;\n",
       "    }\n",
       "  </style>\n",
       "\n",
       "      <script>\n",
       "        const buttonEl =\n",
       "          document.querySelector('#df-cce89bba-1949-4d5b-abb9-21e3040d32ac button.colab-df-convert');\n",
       "        buttonEl.style.display =\n",
       "          google.colab.kernel.accessAllowed ? 'block' : 'none';\n",
       "\n",
       "        async function convertToInteractive(key) {\n",
       "          const element = document.querySelector('#df-cce89bba-1949-4d5b-abb9-21e3040d32ac');\n",
       "          const dataTable =\n",
       "            await google.colab.kernel.invokeFunction('convertToInteractive',\n",
       "                                                     [key], {});\n",
       "          if (!dataTable) return;\n",
       "\n",
       "          const docLinkHtml = 'Like what you see? Visit the ' +\n",
       "            '<a target=\"_blank\" href=https://colab.research.google.com/notebooks/data_table.ipynb>data table notebook</a>'\n",
       "            + ' to learn more about interactive tables.';\n",
       "          element.innerHTML = '';\n",
       "          dataTable['output_type'] = 'display_data';\n",
       "          await google.colab.output.renderOutput(dataTable, element);\n",
       "          const docLink = document.createElement('div');\n",
       "          docLink.innerHTML = docLinkHtml;\n",
       "          element.appendChild(docLink);\n",
       "        }\n",
       "      </script>\n",
       "    </div>\n",
       "  </div>\n"
      ],
      "text/plain": [
       "   student_id  rev       id grp  payment\n",
       "0      581585  0.0   581585   A        0\n",
       "1     5723133  0.0  5723133   A        0"
      ]
     },
     "execution_count": 29,
     "metadata": {},
     "output_type": "execute_result"
    }
   ],
   "source": [
    "active_studs_extended.head(2)"
   ]
  },
  {
   "cell_type": "code",
   "execution_count": 30,
   "id": "5e28f80c",
   "metadata": {
    "colab": {
     "base_uri": "https://localhost:8080/"
    },
    "id": "c72bbf27",
    "outputId": "d6515bb4-2a05-4a7e-84a8-0cddd83d64e6"
   },
   "outputs": [
    {
     "data": {
      "text/plain": [
       "B    6803\n",
       "A    1538\n",
       "Name: grp, dtype: int64"
      ]
     },
     "execution_count": 30,
     "metadata": {},
     "output_type": "execute_result"
    }
   ],
   "source": [
    "active_studs_extended.grp.value_counts()  # размеры выборок активных пользователей."
   ]
  },
  {
   "cell_type": "code",
   "execution_count": 31,
   "id": "14166efe",
   "metadata": {
    "id": "a8408cff"
   },
   "outputs": [],
   "source": [
    "group_A = active_studs_extended.query('grp == \"A\"')  # данные о контрольной группе"
   ]
  },
  {
   "cell_type": "code",
   "execution_count": 32,
   "id": "4d8a0901",
   "metadata": {
    "id": "fe71dec6"
   },
   "outputs": [],
   "source": [
    "group_B = active_studs_extended.query('grp == \"B\"')  # данные о целевой группе"
   ]
  },
  {
   "cell_type": "code",
   "execution_count": 33,
   "id": "fa5ec2ff",
   "metadata": {
    "colab": {
     "base_uri": "https://localhost:8080/"
    },
    "id": "5761bee8",
    "outputId": "41412654-08af-4e62-d5fd-09d2ec2a490e"
   },
   "outputs": [
    {
     "data": {
      "text/plain": [
       "5.07"
      ]
     },
     "execution_count": 33,
     "metadata": {},
     "output_type": "execute_result"
    }
   ],
   "source": [
    "CR_to_payment_A = round(100 * group_A.payment.sum() / group_A.student_id.count(), 2)  # конверсия в контрольной группе\n",
    "CR_to_payment_A"
   ]
  },
  {
   "cell_type": "code",
   "execution_count": 34,
   "id": "7a4ca16b",
   "metadata": {
    "colab": {
     "base_uri": "https://localhost:8080/"
    },
    "id": "28deb020",
    "outputId": "0422aee0-32e4-4c26-80cc-cef0db73c1b8"
   },
   "outputs": [
    {
     "data": {
      "text/plain": [
       "4.62"
      ]
     },
     "execution_count": 34,
     "metadata": {},
     "output_type": "execute_result"
    }
   ],
   "source": [
    "CR_to_payment_B = round(100 * group_B.payment.sum() / group_B.student_id.count(), 2)  # конверсия в целевой группе\n",
    "CR_to_payment_B"
   ]
  },
  {
   "cell_type": "markdown",
   "id": "87a99b26",
   "metadata": {
    "id": "cc197547"
   },
   "source": [
    "**Конверсия в целевой группе (4,62%) ниже конверсии в контрольной группе (5,07%).**\n",
    "\n",
    "Различия в значениях есть, проверяется статистическая значимость."
   ]
  },
  {
   "cell_type": "markdown",
   "id": "ae36dfc4",
   "metadata": {
    "id": "91cbdebc"
   },
   "source": [
    "Статус оплаты - категориальная переменная, статистическая значимость проверяется с помощью критерия Хи-квадрат.\n",
    "\n",
    "H0 - Новый механизм оплаты не влияет на конверсию пользователей в покупателей.\n",
    "\n",
    "Н1 - Новый механизм оплаты влияет на конверсию пользователей в покупателей."
   ]
  },
  {
   "cell_type": "code",
   "execution_count": 35,
   "id": "063b3753",
   "metadata": {
    "id": "25503a5d"
   },
   "outputs": [],
   "source": [
    "payment_crosstab = pd.crosstab(active_studs_extended.grp, active_studs_extended.payment)\n",
    "# таблица кросс-табуляции показывает, сколько пользователей в каждой группе совершили и не совершили покупку"
   ]
  },
  {
   "cell_type": "code",
   "execution_count": 36,
   "id": "b60ca6bd",
   "metadata": {
    "colab": {
     "base_uri": "https://localhost:8080/",
     "height": 143
    },
    "id": "b1adf8e8",
    "outputId": "2a65c3cb-d543-4860-b247-1065e0e243bd"
   },
   "outputs": [
    {
     "data": {
      "text/html": [
       "\n",
       "\n",
       "  <div id=\"df-7fac3b47-6ff8-4363-ba37-6649bac28de3\">\n",
       "    <div class=\"colab-df-container\">\n",
       "      <div>\n",
       "<style scoped>\n",
       "    .dataframe tbody tr th:only-of-type {\n",
       "        vertical-align: middle;\n",
       "    }\n",
       "\n",
       "    .dataframe tbody tr th {\n",
       "        vertical-align: top;\n",
       "    }\n",
       "\n",
       "    .dataframe thead th {\n",
       "        text-align: right;\n",
       "    }\n",
       "</style>\n",
       "<table border=\"1\" class=\"dataframe\">\n",
       "  <thead>\n",
       "    <tr style=\"text-align: right;\">\n",
       "      <th>payment</th>\n",
       "      <th>0</th>\n",
       "      <th>1</th>\n",
       "    </tr>\n",
       "    <tr>\n",
       "      <th>grp</th>\n",
       "      <th></th>\n",
       "      <th></th>\n",
       "    </tr>\n",
       "  </thead>\n",
       "  <tbody>\n",
       "    <tr>\n",
       "      <th>A</th>\n",
       "      <td>1460</td>\n",
       "      <td>78</td>\n",
       "    </tr>\n",
       "    <tr>\n",
       "      <th>B</th>\n",
       "      <td>6489</td>\n",
       "      <td>314</td>\n",
       "    </tr>\n",
       "  </tbody>\n",
       "</table>\n",
       "</div>\n",
       "      <button class=\"colab-df-convert\" onclick=\"convertToInteractive('df-7fac3b47-6ff8-4363-ba37-6649bac28de3')\"\n",
       "              title=\"Convert this dataframe to an interactive table.\"\n",
       "              style=\"display:none;\">\n",
       "\n",
       "  <svg xmlns=\"http://www.w3.org/2000/svg\" height=\"24px\"viewBox=\"0 0 24 24\"\n",
       "       width=\"24px\">\n",
       "    <path d=\"M0 0h24v24H0V0z\" fill=\"none\"/>\n",
       "    <path d=\"M18.56 5.44l.94 2.06.94-2.06 2.06-.94-2.06-.94-.94-2.06-.94 2.06-2.06.94zm-11 1L8.5 8.5l.94-2.06 2.06-.94-2.06-.94L8.5 2.5l-.94 2.06-2.06.94zm10 10l.94 2.06.94-2.06 2.06-.94-2.06-.94-.94-2.06-.94 2.06-2.06.94z\"/><path d=\"M17.41 7.96l-1.37-1.37c-.4-.4-.92-.59-1.43-.59-.52 0-1.04.2-1.43.59L10.3 9.45l-7.72 7.72c-.78.78-.78 2.05 0 2.83L4 21.41c.39.39.9.59 1.41.59.51 0 1.02-.2 1.41-.59l7.78-7.78 2.81-2.81c.8-.78.8-2.07 0-2.86zM5.41 20L4 18.59l7.72-7.72 1.47 1.35L5.41 20z\"/>\n",
       "  </svg>\n",
       "      </button>\n",
       "\n",
       "\n",
       "\n",
       "    <div id=\"df-e7e2c0f7-4a77-4a84-be40-ea450b4dd5d6\">\n",
       "      <button class=\"colab-df-quickchart\" onclick=\"quickchart('df-e7e2c0f7-4a77-4a84-be40-ea450b4dd5d6')\"\n",
       "              title=\"Suggest charts.\"\n",
       "              style=\"display:none;\">\n",
       "\n",
       "<svg xmlns=\"http://www.w3.org/2000/svg\" height=\"24px\"viewBox=\"0 0 24 24\"\n",
       "     width=\"24px\">\n",
       "    <g>\n",
       "        <path d=\"M19 3H5c-1.1 0-2 .9-2 2v14c0 1.1.9 2 2 2h14c1.1 0 2-.9 2-2V5c0-1.1-.9-2-2-2zM9 17H7v-7h2v7zm4 0h-2V7h2v10zm4 0h-2v-4h2v4z\"/>\n",
       "    </g>\n",
       "</svg>\n",
       "      </button>\n",
       "    </div>\n",
       "\n",
       "<style>\n",
       "  .colab-df-quickchart {\n",
       "    background-color: #E8F0FE;\n",
       "    border: none;\n",
       "    border-radius: 50%;\n",
       "    cursor: pointer;\n",
       "    display: none;\n",
       "    fill: #1967D2;\n",
       "    height: 32px;\n",
       "    padding: 0 0 0 0;\n",
       "    width: 32px;\n",
       "  }\n",
       "\n",
       "  .colab-df-quickchart:hover {\n",
       "    background-color: #E2EBFA;\n",
       "    box-shadow: 0px 1px 2px rgba(60, 64, 67, 0.3), 0px 1px 3px 1px rgba(60, 64, 67, 0.15);\n",
       "    fill: #174EA6;\n",
       "  }\n",
       "\n",
       "  [theme=dark] .colab-df-quickchart {\n",
       "    background-color: #3B4455;\n",
       "    fill: #D2E3FC;\n",
       "  }\n",
       "\n",
       "  [theme=dark] .colab-df-quickchart:hover {\n",
       "    background-color: #434B5C;\n",
       "    box-shadow: 0px 1px 3px 1px rgba(0, 0, 0, 0.15);\n",
       "    filter: drop-shadow(0px 1px 2px rgba(0, 0, 0, 0.3));\n",
       "    fill: #FFFFFF;\n",
       "  }\n",
       "</style>\n",
       "\n",
       "    <script>\n",
       "      async function quickchart(key) {\n",
       "        const containerElement = document.querySelector('#' + key);\n",
       "        const charts = await google.colab.kernel.invokeFunction(\n",
       "            'suggestCharts', [key], {});\n",
       "      }\n",
       "    </script>\n",
       "\n",
       "      <script>\n",
       "\n",
       "function displayQuickchartButton(domScope) {\n",
       "  let quickchartButtonEl =\n",
       "    domScope.querySelector('#df-e7e2c0f7-4a77-4a84-be40-ea450b4dd5d6 button.colab-df-quickchart');\n",
       "  quickchartButtonEl.style.display =\n",
       "    google.colab.kernel.accessAllowed ? 'block' : 'none';\n",
       "}\n",
       "\n",
       "        displayQuickchartButton(document);\n",
       "      </script>\n",
       "      <style>\n",
       "    .colab-df-container {\n",
       "      display:flex;\n",
       "      flex-wrap:wrap;\n",
       "      gap: 12px;\n",
       "    }\n",
       "\n",
       "    .colab-df-convert {\n",
       "      background-color: #E8F0FE;\n",
       "      border: none;\n",
       "      border-radius: 50%;\n",
       "      cursor: pointer;\n",
       "      display: none;\n",
       "      fill: #1967D2;\n",
       "      height: 32px;\n",
       "      padding: 0 0 0 0;\n",
       "      width: 32px;\n",
       "    }\n",
       "\n",
       "    .colab-df-convert:hover {\n",
       "      background-color: #E2EBFA;\n",
       "      box-shadow: 0px 1px 2px rgba(60, 64, 67, 0.3), 0px 1px 3px 1px rgba(60, 64, 67, 0.15);\n",
       "      fill: #174EA6;\n",
       "    }\n",
       "\n",
       "    [theme=dark] .colab-df-convert {\n",
       "      background-color: #3B4455;\n",
       "      fill: #D2E3FC;\n",
       "    }\n",
       "\n",
       "    [theme=dark] .colab-df-convert:hover {\n",
       "      background-color: #434B5C;\n",
       "      box-shadow: 0px 1px 3px 1px rgba(0, 0, 0, 0.15);\n",
       "      filter: drop-shadow(0px 1px 2px rgba(0, 0, 0, 0.3));\n",
       "      fill: #FFFFFF;\n",
       "    }\n",
       "  </style>\n",
       "\n",
       "      <script>\n",
       "        const buttonEl =\n",
       "          document.querySelector('#df-7fac3b47-6ff8-4363-ba37-6649bac28de3 button.colab-df-convert');\n",
       "        buttonEl.style.display =\n",
       "          google.colab.kernel.accessAllowed ? 'block' : 'none';\n",
       "\n",
       "        async function convertToInteractive(key) {\n",
       "          const element = document.querySelector('#df-7fac3b47-6ff8-4363-ba37-6649bac28de3');\n",
       "          const dataTable =\n",
       "            await google.colab.kernel.invokeFunction('convertToInteractive',\n",
       "                                                     [key], {});\n",
       "          if (!dataTable) return;\n",
       "\n",
       "          const docLinkHtml = 'Like what you see? Visit the ' +\n",
       "            '<a target=\"_blank\" href=https://colab.research.google.com/notebooks/data_table.ipynb>data table notebook</a>'\n",
       "            + ' to learn more about interactive tables.';\n",
       "          element.innerHTML = '';\n",
       "          dataTable['output_type'] = 'display_data';\n",
       "          await google.colab.output.renderOutput(dataTable, element);\n",
       "          const docLink = document.createElement('div');\n",
       "          docLink.innerHTML = docLinkHtml;\n",
       "          element.appendChild(docLink);\n",
       "        }\n",
       "      </script>\n",
       "    </div>\n",
       "  </div>\n"
      ],
      "text/plain": [
       "payment     0    1\n",
       "grp               \n",
       "A        1460   78\n",
       "B        6489  314"
      ]
     },
     "execution_count": 36,
     "metadata": {},
     "output_type": "execute_result"
    }
   ],
   "source": [
    "payment_crosstab"
   ]
  },
  {
   "cell_type": "code",
   "execution_count": 37,
   "id": "ef7f2db2",
   "metadata": {
    "colab": {
     "base_uri": "https://localhost:8080/"
    },
    "id": "b20dfe34",
    "outputId": "093b1357-64c1-4b12-eb2f-6dd30dfea481"
   },
   "outputs": [
    {
     "data": {
      "text/plain": [
       "0.49"
      ]
     },
     "execution_count": 37,
     "metadata": {},
     "output_type": "execute_result"
    }
   ],
   "source": [
    "CR_to_payment_stat = scipy. stats.chi2_contingency(payment_crosstab)\n",
    "CR_to_payment_pvalue = round(CR_to_payment_stat.pvalue, 2)\n",
    "CR_to_payment_pvalue"
   ]
  },
  {
   "cell_type": "markdown",
   "id": "ef070f56",
   "metadata": {
    "id": "1166911d"
   },
   "source": [
    "pvalue = 0.49 > 0.05 --> **нет оснований говорить о статистичексой значимости различий конверсии в двух группах.**"
   ]
  },
  {
   "cell_type": "markdown",
   "id": "9855b2a3",
   "metadata": {
    "id": "663fc5ec"
   },
   "source": [
    "#### ARPPU"
   ]
  },
  {
   "cell_type": "code",
   "execution_count": 38,
   "id": "cef26e48",
   "metadata": {
    "id": "4ad89cb3"
   },
   "outputs": [],
   "source": [
    "active_studs_buyers = active_studs_extended.query('rev != 0')  # отбор покупателей"
   ]
  },
  {
   "cell_type": "code",
   "execution_count": 39,
   "id": "5712ee73",
   "metadata": {
    "colab": {
     "base_uri": "https://localhost:8080/"
    },
    "id": "a8563605",
    "outputId": "73914f08-216f-440a-960f-d6e17cab5f54"
   },
   "outputs": [
    {
     "data": {
      "text/plain": [
       "B    314\n",
       "A     78\n",
       "Name: grp, dtype: int64"
      ]
     },
     "execution_count": 39,
     "metadata": {},
     "output_type": "execute_result"
    }
   ],
   "source": [
    "active_studs_buyers.grp.value_counts()  # размеры выборок покупателей."
   ]
  },
  {
   "cell_type": "code",
   "execution_count": 40,
   "id": "18096cd2",
   "metadata": {
    "id": "5b57fc21"
   },
   "outputs": [],
   "source": [
    "group_A_buyers = group_A.query('rev != 0')"
   ]
  },
  {
   "cell_type": "code",
   "execution_count": 41,
   "id": "e7343471",
   "metadata": {
    "id": "6c85e765"
   },
   "outputs": [],
   "source": [
    "group_B_buyers = group_B.query('rev != 0')"
   ]
  },
  {
   "cell_type": "code",
   "execution_count": 42,
   "id": "5519b86d",
   "metadata": {
    "colab": {
     "base_uri": "https://localhost:8080/"
    },
    "id": "b05db44e",
    "outputId": "26b42d7e-cbfc-470e-91a0-daaf808aefd9"
   },
   "outputs": [
    {
     "data": {
      "text/plain": [
       "933.59"
      ]
     },
     "execution_count": 42,
     "metadata": {},
     "output_type": "execute_result"
    }
   ],
   "source": [
    "ARPPU_A = round(group_A_buyers.rev.sum() / group_A_buyers.student_id.count(), 2)  # ARPPU в контрольной группе\n",
    "ARPPU_A"
   ]
  },
  {
   "cell_type": "code",
   "execution_count": 43,
   "id": "1af1814b",
   "metadata": {
    "colab": {
     "base_uri": "https://localhost:8080/"
    },
    "id": "0a9e74ab",
    "outputId": "b82e93cd-2d38-488b-93bb-50d9bd4af4d1"
   },
   "outputs": [
    {
     "data": {
      "text/plain": [
       "1257.88"
      ]
     },
     "execution_count": 43,
     "metadata": {},
     "output_type": "execute_result"
    }
   ],
   "source": [
    "ARPPU_B = round(group_B_buyers.rev.sum() / group_B_buyers.student_id.count(), 2)  # ARPPU в целевой группе\n",
    "ARPPU_B"
   ]
  },
  {
   "cell_type": "markdown",
   "id": "f3c1236c",
   "metadata": {
    "id": "7be44570"
   },
   "source": [
    "ARPPU в целевой группе (1257.9) выше чем ARPPU в контрольной группе (933.6).\n",
    "\n",
    "Различия в значениях есть, проверяется статистическая значимость."
   ]
  },
  {
   "cell_type": "code",
   "execution_count": 44,
   "id": "431e8dce",
   "metadata": {
    "colab": {
     "base_uri": "https://localhost:8080/",
     "height": 524
    },
    "id": "fca34782",
    "outputId": "2b8fcb0b-291b-432a-ba71-380db9e1d691"
   },
   "outputs": [
    {
     "data": {
      "text/plain": [
       "<seaborn.axisgrid.FacetGrid at 0x7e08467fb3a0>"
      ]
     },
     "execution_count": 44,
     "metadata": {},
     "output_type": "execute_result"
    },
    {
     "data": {
      "image/png": "[encoded data removed]",
      "text/plain": [
       "<Figure size 559.625x500 with 1 Axes>"
      ]
     },
     "metadata": {},
     "output_type": "display_data"
    }
   ],
   "source": [
    "sns.displot(data=active_studs_buyers, x='rev', hue='grp')  # распределение суммы чека в группах"
   ]
  },
  {
   "cell_type": "markdown",
   "id": "01081c26",
   "metadata": {
    "id": "26aa1611"
   },
   "source": [
    "Форма распределения значений в группах не только не близка к нормальному распределению, но и различна в двух группах за счет пика значений в примерно 2000 в целевой группе."
   ]
  },
  {
   "cell_type": "code",
   "execution_count": 45,
   "id": "310d8887",
   "metadata": {
    "colab": {
     "base_uri": "https://localhost:8080/",
     "height": 490
    },
    "id": "936e96d3",
    "outputId": "280b74f2-4267-4086-9e93-40a18e8c57c1"
   },
   "outputs": [
    {
     "data": {
      "text/plain": [
       "Text(0, 0.5, 'Группа')"
      ]
     },
     "execution_count": 45,
     "metadata": {},
     "output_type": "execute_result"
    },
    {
     "data": {
      "image/png": "[encoded data removed]",
      "text/plain": [
       "<Figure size 640x480 with 1 Axes>"
      ]
     },
     "metadata": {},
     "output_type": "display_data"
    }
   ],
   "source": [
    "sns.boxplot(x='rev', y='grp', data=active_studs_buyers)\n",
    "plt.title('Доход с пользователя в каждой группе')\n",
    "plt.xlabel('Доход')\n",
    "plt.ylabel('Группа')"
   ]
  },
  {
   "cell_type": "markdown",
   "id": "4b68b737",
   "metadata": {
    "id": "1f37ccee"
   },
   "source": [
    "В целевой группе наблюдается увеличение межквартильного размаха и смещение медианы  вправо относительно контрольной группы. В контрольной группе наблюдается большое количество выбросов."
   ]
  },
  {
   "cell_type": "markdown",
   "id": "995befe3",
   "metadata": {},
   "source": [
    "Выбросы и ненормальное распределение не позволяют опираться на t-критерий, непараметрический тест не сравнивает средние значения в выборках. Таким образом наиболее надежной для данных выборок является методика бутстрап.\n",
    "\n",
    "Далее с помощью бутстрапа проверяется разница между средними значениями в группах.\n",
    "\n",
    "H0 - Новый механизм оплаты не влияет на средний доход с платящего пользователя.\n",
    "\n",
    "Н1 - Новый механизм оплаты влияет на средний доход с платящего пользователя."
   ]
  },
  {
   "cell_type": "code",
   "execution_count": 46,
   "id": "542280af",
   "metadata": {
    "id": "4d659f50"
   },
   "outputs": [],
   "source": [
    "ARPPU_bootstrap = scipy.stats.bootstrap([group_A_buyers.rev,\n",
    "                                        group_B_buyers.rev],\n",
    "                                        statistic=lambda x, y: np.mean(y) - np.mean(x))"
   ]
  },
  {
   "cell_type": "code",
   "execution_count": 47,
   "id": "80e155d0",
   "metadata": {
    "colab": {
     "base_uri": "https://localhost:8080/"
    },
    "id": "ffa4db25",
    "outputId": "910d8750-255f-432a-90df-1253a81b7ce2"
   },
   "outputs": [
    {
     "data": {
      "text/plain": [
       "BootstrapResult(confidence_interval=ConfidenceInterval(low=71.73831929008463, high=518.5746740825465), bootstrap_distribution=array([251.8237125 , 425.46775572, 186.40479925, ..., 335.96587883,\n",
       "       291.08346601, 521.80459913]), standard_error=112.46766418346182)"
      ]
     },
     "execution_count": 47,
     "metadata": {},
     "output_type": "execute_result"
    }
   ],
   "source": [
    "ARPPU_bootstrap"
   ]
  },
  {
   "cell_type": "code",
   "execution_count": 48,
   "id": "4ed5cb1d",
   "metadata": {
    "colab": {
     "base_uri": "https://localhost:8080/",
     "height": 448
    },
    "id": "fa332871",
    "outputId": "dc1cbb57-fb73-4c81-bff8-2bd70911d523"
   },
   "outputs": [
    {
     "data": {
      "text/plain": [
       "<Axes: ylabel='Count'>"
      ]
     },
     "execution_count": 48,
     "metadata": {},
     "output_type": "execute_result"
    },
    {
     "data": {
      "image/png": "[encoded data removed]",
      "text/plain": [
       "<Figure size 640x480 with 1 Axes>"
      ]
     },
     "metadata": {},
     "output_type": "display_data"
    }
   ],
   "source": [
    "sns.histplot(data=ARPPU_bootstrap.bootstrap_distribution)"
   ]
  },
  {
   "cell_type": "code",
   "execution_count": 49,
   "id": "4569c0fd",
   "metadata": {
    "colab": {
     "base_uri": "https://localhost:8080/"
    },
    "id": "f1e393f2",
    "outputId": "c7d80e01-4ef6-45f9-95e3-df69fdd5e31c"
   },
   "outputs": [
    {
     "data": {
      "text/plain": [
       "ConfidenceInterval(low=71.73831929008463, high=518.5746740825465)"
      ]
     },
     "execution_count": 49,
     "metadata": {},
     "output_type": "execute_result"
    }
   ],
   "source": [
    "ARPPU_bootstrap.confidence_interval"
   ]
  },
  {
   "cell_type": "code",
   "execution_count": 50,
   "id": "2ff53a3b",
   "metadata": {
    "colab": {
     "base_uri": "https://localhost:8080/"
    },
    "id": "4IoTGAOJM38Q",
    "outputId": "c2cec939-6f8b-4ee4-dce7-1e9743a73f9e"
   },
   "outputs": [
    {
     "data": {
      "text/plain": [
       "[71.74, 518.57]"
      ]
     },
     "execution_count": 50,
     "metadata": {},
     "output_type": "execute_result"
    }
   ],
   "source": [
    "ARPPU_CI = [round(ARPPU_bootstrap.confidence_interval.low, 2), round(ARPPU_bootstrap.confidence_interval.high, 2)]\n",
    "ARPPU_CI"
   ]
  },
  {
   "cell_type": "markdown",
   "id": "67c07bbd",
   "metadata": {
    "id": "c29a7c22"
   },
   "source": [
    "В результате получен доверительный интервал:[71.74, 518.57]\n",
    "\n",
    "0 не попадает в доверительный интервал. **ARPPU в двух группах статистически значимо различаются**."
   ]
  },
  {
   "cell_type": "markdown",
   "id": "8b39c094",
   "metadata": {
    "id": "a2f56db5"
   },
   "source": [
    "#### ARPAU"
   ]
  },
  {
   "cell_type": "code",
   "execution_count": 51,
   "id": "f9fa76c5",
   "metadata": {
    "colab": {
     "base_uri": "https://localhost:8080/"
    },
    "id": "df2fe96d",
    "outputId": "22bcabf3-6a38-4a90-adfc-51dc0570b99e"
   },
   "outputs": [
    {
     "data": {
      "text/plain": [
       "47.35"
      ]
     },
     "execution_count": 51,
     "metadata": {},
     "output_type": "execute_result"
    }
   ],
   "source": [
    "ARPAU_A = round(group_A.rev.sum() / group_A.student_id.count(), 2)  # ARPAU в контрольной группе\n",
    "ARPAU_A"
   ]
  },
  {
   "cell_type": "code",
   "execution_count": 52,
   "id": "987b1fa2",
   "metadata": {
    "colab": {
     "base_uri": "https://localhost:8080/"
    },
    "id": "ea75b113",
    "outputId": "289b58d2-c80a-4d0b-93b7-655191c85ebb"
   },
   "outputs": [
    {
     "data": {
      "text/plain": [
       "58.06"
      ]
     },
     "execution_count": 52,
     "metadata": {},
     "output_type": "execute_result"
    }
   ],
   "source": [
    "ARPAU_B = round(group_B.rev.sum() / group_B.student_id.count(), 2)  # ARPAU в целевой группе\n",
    "ARPAU_B"
   ]
  },
  {
   "cell_type": "markdown",
   "id": "411e1307",
   "metadata": {
    "id": "4cb1249a"
   },
   "source": [
    "ARPAU в целевой группе (58.1) выше чем ARPAU в контрольной группе (47.3).\n",
    "\n",
    "Различия в значениях есть, проверяется статистическая значимость."
   ]
  },
  {
   "cell_type": "code",
   "execution_count": 53,
   "id": "e04236a0",
   "metadata": {
    "colab": {
     "base_uri": "https://localhost:8080/",
     "height": 524
    },
    "id": "42164cfe",
    "outputId": "13611334-31e0-48af-f286-c7eebd6ab02c"
   },
   "outputs": [
    {
     "data": {
      "text/plain": [
       "<seaborn.axisgrid.FacetGrid at 0x7e083ffad450>"
      ]
     },
     "execution_count": 53,
     "metadata": {},
     "output_type": "execute_result"
    },
    {
     "data": {
      "image/png": "[encoded data removed]",
      "text/plain": [
       "<Figure size 559.625x500 with 1 Axes>"
      ]
     },
     "metadata": {},
     "output_type": "display_data"
    }
   ],
   "source": [
    "sns.displot(data=active_studs_extended, x='rev', hue='grp')  # распределение суммы чека в группах"
   ]
  },
  {
   "cell_type": "markdown",
   "id": "b2c0cdeb",
   "metadata": {
    "id": "34e94da1"
   },
   "source": [
    "Форма распределения значений в группах не близка к форме нормального распределения.\n",
    "Число наблюдений в наименьшей из сравниваемых выборок достаточно для проведения t-теста, но из-за большого количества выбросов есть риск получить некорректный результат.\n",
    "Непараметрический тест не сравнивает средние значения в выборках. Таким образом наиболее надежной для данных выборок является методика бутстрап.\n",
    "\n",
    "Далее с помощью бутстрапа проверяется разница между средними значениями в группах.\n",
    "\n",
    "H0 - Новый механизм оплаты не влияет на средний доход с активного пользователя.\n",
    "\n",
    "Н1 - Новый механизм оплаты влияет на средний доход с активного пользователя."
   ]
  },
  {
   "cell_type": "code",
   "execution_count": 54,
   "id": "97f152dc",
   "metadata": {
    "id": "48e3e78e"
   },
   "outputs": [],
   "source": [
    "ARPAU_bootstrap = scipy.stats.bootstrap([group_A.rev,\n",
    "                                        group_B.rev],\n",
    "                                        statistic=lambda x, y: np.mean(y) - np.mean(x))"
   ]
  },
  {
   "cell_type": "code",
   "execution_count": 55,
   "id": "8ad9a721",
   "metadata": {
    "colab": {
     "base_uri": "https://localhost:8080/"
    },
    "id": "6dcee264",
    "outputId": "85ea081d-b7c5-4301-819b-83534286aabe"
   },
   "outputs": [
    {
     "data": {
      "text/plain": [
       "BootstrapResult(confidence_interval=ConfidenceInterval(low=-7.126251585364182, high=25.807867496083475), bootstrap_distribution=array([ 11.00727772, -15.67521224,  16.40391874, ...,   7.88938862,\n",
       "        14.38363646,  -3.04484939]), standard_error=8.359457243380922)"
      ]
     },
     "execution_count": 55,
     "metadata": {},
     "output_type": "execute_result"
    }
   ],
   "source": [
    "ARPAU_bootstrap"
   ]
  },
  {
   "cell_type": "code",
   "execution_count": 56,
   "id": "fb603487",
   "metadata": {
    "colab": {
     "base_uri": "https://localhost:8080/",
     "height": 448
    },
    "id": "13f85232",
    "outputId": "a9c5fedb-128a-4ce5-83fe-63316f41b170"
   },
   "outputs": [
    {
     "data": {
      "text/plain": [
       "<Axes: ylabel='Count'>"
      ]
     },
     "execution_count": 56,
     "metadata": {},
     "output_type": "execute_result"
    },
    {
     "data": {
      "image/png": "[encoded data removed]",
      "text/plain": [
       "<Figure size 640x480 with 1 Axes>"
      ]
     },
     "metadata": {},
     "output_type": "display_data"
    }
   ],
   "source": [
    "sns.histplot(data=ARPAU_bootstrap.bootstrap_distribution)"
   ]
  },
  {
   "cell_type": "code",
   "execution_count": 57,
   "id": "fff4a449",
   "metadata": {
    "colab": {
     "base_uri": "https://localhost:8080/"
    },
    "id": "77eaabe7",
    "outputId": "3fd00801-ca21-413e-f327-908655f868e6"
   },
   "outputs": [
    {
     "data": {
      "text/plain": [
       "ConfidenceInterval(low=-7.126251585364182, high=25.807867496083475)"
      ]
     },
     "execution_count": 57,
     "metadata": {},
     "output_type": "execute_result"
    }
   ],
   "source": [
    "ARPAU_bootstrap.confidence_interval"
   ]
  },
  {
   "cell_type": "code",
   "execution_count": 58,
   "id": "fcca9a51",
   "metadata": {
    "colab": {
     "base_uri": "https://localhost:8080/"
    },
    "id": "ecFbxujnMhHQ",
    "outputId": "767e2391-555d-4408-b256-be84ba86d34d"
   },
   "outputs": [
    {
     "data": {
      "text/plain": [
       "[-7.13, 25.81]"
      ]
     },
     "execution_count": 58,
     "metadata": {},
     "output_type": "execute_result"
    }
   ],
   "source": [
    "ARPAU_CI = [round(ARPAU_bootstrap.confidence_interval.low, 2), round(ARPAU_bootstrap.confidence_interval.high, 2)]\n",
    "ARPAU_CI"
   ]
  },
  {
   "cell_type": "markdown",
   "id": "8c52f850",
   "metadata": {
    "id": "f0326445"
   },
   "source": [
    "В результате получен доверительный интервал: [-7.13, 25.81]\n",
    "\n",
    "0 попадает в доверительный интервал. **ARPAU в двух группах статистически значимо не различаются**."
   ]
  },
  {
   "cell_type": "markdown",
   "id": "ee1ace15",
   "metadata": {
    "id": "ac5f1f77"
   },
   "source": [
    "## Вывод"
   ]
  },
  {
   "cell_type": "code",
   "execution_count": 59,
   "id": "d1785c63",
   "metadata": {
    "colab": {
     "base_uri": "https://localhost:8080/",
     "height": 81
    },
    "id": "vZTiNWmLMe2y",
    "outputId": "1b156bba-ce08-456d-cfce-49159790959f"
   },
   "outputs": [
    {
     "data": {
      "text/html": [
       "\n",
       "\n",
       "  <div id=\"df-b2f5f328-0373-4cbf-974a-346c8baa95c5\">\n",
       "    <div class=\"colab-df-container\">\n",
       "      <div>\n",
       "<style scoped>\n",
       "    .dataframe tbody tr th:only-of-type {\n",
       "        vertical-align: middle;\n",
       "    }\n",
       "\n",
       "    .dataframe tbody tr th {\n",
       "        vertical-align: top;\n",
       "    }\n",
       "\n",
       "    .dataframe thead th {\n",
       "        text-align: right;\n",
       "    }\n",
       "</style>\n",
       "<table border=\"1\" class=\"dataframe\">\n",
       "  <thead>\n",
       "    <tr style=\"text-align: right;\">\n",
       "      <th></th>\n",
       "      <th>Version</th>\n",
       "      <th>CR_A</th>\n",
       "      <th>CR_B</th>\n",
       "      <th>CR_pvalue</th>\n",
       "      <th>ARPPU_A</th>\n",
       "      <th>ARPPU_B</th>\n",
       "      <th>ARPPU_CI</th>\n",
       "      <th>ARPAU_A</th>\n",
       "      <th>ARPAU_B</th>\n",
       "      <th>ARPAU_CI</th>\n",
       "    </tr>\n",
       "  </thead>\n",
       "  <tbody>\n",
       "    <tr>\n",
       "      <th>0</th>\n",
       "      <td>task_01</td>\n",
       "      <td>5.07</td>\n",
       "      <td>4.62</td>\n",
       "      <td>0.49</td>\n",
       "      <td>933.59</td>\n",
       "      <td>1257.88</td>\n",
       "      <td>[71.74, 518.57]</td>\n",
       "      <td>47.35</td>\n",
       "      <td>58.06</td>\n",
       "      <td>[-7.13, 25.81]</td>\n",
       "    </tr>\n",
       "  </tbody>\n",
       "</table>\n",
       "</div>\n",
       "      <button class=\"colab-df-convert\" onclick=\"convertToInteractive('df-b2f5f328-0373-4cbf-974a-346c8baa95c5')\"\n",
       "              title=\"Convert this dataframe to an interactive table.\"\n",
       "              style=\"display:none;\">\n",
       "\n",
       "  <svg xmlns=\"http://www.w3.org/2000/svg\" height=\"24px\"viewBox=\"0 0 24 24\"\n",
       "       width=\"24px\">\n",
       "    <path d=\"M0 0h24v24H0V0z\" fill=\"none\"/>\n",
       "    <path d=\"M18.56 5.44l.94 2.06.94-2.06 2.06-.94-2.06-.94-.94-2.06-.94 2.06-2.06.94zm-11 1L8.5 8.5l.94-2.06 2.06-.94-2.06-.94L8.5 2.5l-.94 2.06-2.06.94zm10 10l.94 2.06.94-2.06 2.06-.94-2.06-.94-.94-2.06-.94 2.06-2.06.94z\"/><path d=\"M17.41 7.96l-1.37-1.37c-.4-.4-.92-.59-1.43-.59-.52 0-1.04.2-1.43.59L10.3 9.45l-7.72 7.72c-.78.78-.78 2.05 0 2.83L4 21.41c.39.39.9.59 1.41.59.51 0 1.02-.2 1.41-.59l7.78-7.78 2.81-2.81c.8-.78.8-2.07 0-2.86zM5.41 20L4 18.59l7.72-7.72 1.47 1.35L5.41 20z\"/>\n",
       "  </svg>\n",
       "      </button>\n",
       "\n",
       "\n",
       "\n",
       "    <div id=\"df-309ed1d4-19af-432c-92b3-7b5541f9460f\">\n",
       "      <button class=\"colab-df-quickchart\" onclick=\"quickchart('df-309ed1d4-19af-432c-92b3-7b5541f9460f')\"\n",
       "              title=\"Suggest charts.\"\n",
       "              style=\"display:none;\">\n",
       "\n",
       "<svg xmlns=\"http://www.w3.org/2000/svg\" height=\"24px\"viewBox=\"0 0 24 24\"\n",
       "     width=\"24px\">\n",
       "    <g>\n",
       "        <path d=\"M19 3H5c-1.1 0-2 .9-2 2v14c0 1.1.9 2 2 2h14c1.1 0 2-.9 2-2V5c0-1.1-.9-2-2-2zM9 17H7v-7h2v7zm4 0h-2V7h2v10zm4 0h-2v-4h2v4z\"/>\n",
       "    </g>\n",
       "</svg>\n",
       "      </button>\n",
       "    </div>\n",
       "\n",
       "<style>\n",
       "  .colab-df-quickchart {\n",
       "    background-color: #E8F0FE;\n",
       "    border: none;\n",
       "    border-radius: 50%;\n",
       "    cursor: pointer;\n",
       "    display: none;\n",
       "    fill: #1967D2;\n",
       "    height: 32px;\n",
       "    padding: 0 0 0 0;\n",
       "    width: 32px;\n",
       "  }\n",
       "\n",
       "  .colab-df-quickchart:hover {\n",
       "    background-color: #E2EBFA;\n",
       "    box-shadow: 0px 1px 2px rgba(60, 64, 67, 0.3), 0px 1px 3px 1px rgba(60, 64, 67, 0.15);\n",
       "    fill: #174EA6;\n",
       "  }\n",
       "\n",
       "  [theme=dark] .colab-df-quickchart {\n",
       "    background-color: #3B4455;\n",
       "    fill: #D2E3FC;\n",
       "  }\n",
       "\n",
       "  [theme=dark] .colab-df-quickchart:hover {\n",
       "    background-color: #434B5C;\n",
       "    box-shadow: 0px 1px 3px 1px rgba(0, 0, 0, 0.15);\n",
       "    filter: drop-shadow(0px 1px 2px rgba(0, 0, 0, 0.3));\n",
       "    fill: #FFFFFF;\n",
       "  }\n",
       "</style>\n",
       "\n",
       "    <script>\n",
       "      async function quickchart(key) {\n",
       "        const containerElement = document.querySelector('#' + key);\n",
       "        const charts = await google.colab.kernel.invokeFunction(\n",
       "            'suggestCharts', [key], {});\n",
       "      }\n",
       "    </script>\n",
       "\n",
       "      <script>\n",
       "\n",
       "function displayQuickchartButton(domScope) {\n",
       "  let quickchartButtonEl =\n",
       "    domScope.querySelector('#df-309ed1d4-19af-432c-92b3-7b5541f9460f button.colab-df-quickchart');\n",
       "  quickchartButtonEl.style.display =\n",
       "    google.colab.kernel.accessAllowed ? 'block' : 'none';\n",
       "}\n",
       "\n",
       "        displayQuickchartButton(document);\n",
       "      </script>\n",
       "      <style>\n",
       "    .colab-df-container {\n",
       "      display:flex;\n",
       "      flex-wrap:wrap;\n",
       "      gap: 12px;\n",
       "    }\n",
       "\n",
       "    .colab-df-convert {\n",
       "      background-color: #E8F0FE;\n",
       "      border: none;\n",
       "      border-radius: 50%;\n",
       "      cursor: pointer;\n",
       "      display: none;\n",
       "      fill: #1967D2;\n",
       "      height: 32px;\n",
       "      padding: 0 0 0 0;\n",
       "      width: 32px;\n",
       "    }\n",
       "\n",
       "    .colab-df-convert:hover {\n",
       "      background-color: #E2EBFA;\n",
       "      box-shadow: 0px 1px 2px rgba(60, 64, 67, 0.3), 0px 1px 3px 1px rgba(60, 64, 67, 0.15);\n",
       "      fill: #174EA6;\n",
       "    }\n",
       "\n",
       "    [theme=dark] .colab-df-convert {\n",
       "      background-color: #3B4455;\n",
       "      fill: #D2E3FC;\n",
       "    }\n",
       "\n",
       "    [theme=dark] .colab-df-convert:hover {\n",
       "      background-color: #434B5C;\n",
       "      box-shadow: 0px 1px 3px 1px rgba(0, 0, 0, 0.15);\n",
       "      filter: drop-shadow(0px 1px 2px rgba(0, 0, 0, 0.3));\n",
       "      fill: #FFFFFF;\n",
       "    }\n",
       "  </style>\n",
       "\n",
       "      <script>\n",
       "        const buttonEl =\n",
       "          document.querySelector('#df-b2f5f328-0373-4cbf-974a-346c8baa95c5 button.colab-df-convert');\n",
       "        buttonEl.style.display =\n",
       "          google.colab.kernel.accessAllowed ? 'block' : 'none';\n",
       "\n",
       "        async function convertToInteractive(key) {\n",
       "          const element = document.querySelector('#df-b2f5f328-0373-4cbf-974a-346c8baa95c5');\n",
       "          const dataTable =\n",
       "            await google.colab.kernel.invokeFunction('convertToInteractive',\n",
       "                                                     [key], {});\n",
       "          if (!dataTable) return;\n",
       "\n",
       "          const docLinkHtml = 'Like what you see? Visit the ' +\n",
       "            '<a target=\"_blank\" href=https://colab.research.google.com/notebooks/data_table.ipynb>data table notebook</a>'\n",
       "            + ' to learn more about interactive tables.';\n",
       "          element.innerHTML = '';\n",
       "          dataTable['output_type'] = 'display_data';\n",
       "          await google.colab.output.renderOutput(dataTable, element);\n",
       "          const docLink = document.createElement('div');\n",
       "          docLink.innerHTML = docLinkHtml;\n",
       "          element.appendChild(docLink);\n",
       "        }\n",
       "      </script>\n",
       "    </div>\n",
       "  </div>\n"
      ],
      "text/plain": [
       "   Version  CR_A  CR_B  CR_pvalue  ARPPU_A  ARPPU_B         ARPPU_CI  ARPAU_A  \\\n",
       "0  task_01  5.07  4.62       0.49   933.59  1257.88  [71.74, 518.57]    47.35   \n",
       "\n",
       "   ARPAU_B        ARPAU_CI  \n",
       "0    58.06  [-7.13, 25.81]  "
      ]
     },
     "execution_count": 59,
     "metadata": {},
     "output_type": "execute_result"
    }
   ],
   "source": [
    "metrics_task_01 = pd.DataFrame(data={'Version': ['task_01'], \n",
    "                                     'CR_A': [CR_to_payment_A], \n",
    "                                     'CR_B': [CR_to_payment_B], \n",
    "                                     'CR_pvalue': [CR_to_payment_pvalue], \n",
    "                                     'ARPPU_A': [ARPPU_A], \n",
    "                                     'ARPPU_B': [ARPPU_B], \n",
    "                                     'ARPPU_CI': [ARPPU_CI], \n",
    "                                     'ARPAU_A': [ARPAU_A], \n",
    "                                     'ARPAU_B': [ARPAU_B], \n",
    "                                     'ARPAU_CI': [ARPAU_CI]})\n",
    "metrics_task_01"
   ]
  },
  {
   "cell_type": "markdown",
   "id": "ec4851c6",
   "metadata": {
    "id": "3846bb0e"
   },
   "source": [
    "Конверсия в целевой группе (4,62%) **статистически незначимо ниже** конверсии в контрольной группе (5,07%).\n",
    "\n",
    "ARPPU в целевой группе (1257.9) **статистически значимо выше** чем ARPPU в контрольной группе (933.6).\n",
    "\n",
    "ARPAU в целевой группе (58.1) **статистически незначимо выше** чем ARPAU в контрольной группе (47.3).\n",
    "\n",
    "Для принятия обоснованного решения о запуске новой механики оплаты на всех пользователей необходимо соотнести выводы данного анализа с реальными целями нововведений."
   ]
  }
 ],
 "metadata": {
  "colab": {
   "collapsed_sections": [
    "TVVLNlnJPGPY"
   ],
   "provenance": [],
   "toc_visible": true
  },
  "kernelspec": {
   "display_name": "Python 3 (ipykernel)",
   "language": "python",
   "name": "python3"
  },
  "language_info": {
   "codemirror_mode": {
    "name": "ipython",
    "version": 3
   },
   "file_extension": ".py",
   "mimetype": "text/x-python",
   "name": "python",
   "nbconvert_exporter": "python",
   "pygments_lexer": "ipython3",
   "version": "3.9.12"
  }
 },
 "nbformat": 4,
 "nbformat_minor": 5
}
