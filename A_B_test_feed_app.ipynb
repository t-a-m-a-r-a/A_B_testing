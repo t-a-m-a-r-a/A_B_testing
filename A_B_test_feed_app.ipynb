{
  "nbformat": 4,
  "nbformat_minor": 0,
  "metadata": {
    "colab": {
      "provenance": [],
      "collapsed_sections": [
        "rCOB4k_w-th-"
      ],
      "toc_visible": true,
      "mount_file_id": "1lpWa3r-grKERso7W_r2HKoWeb3ryb4zd",
      "authorship_tag": "ABX9TyOivsnqPHfVmUeJqRzscBVm"
    },
    "kernelspec": {
      "name": "python3",
      "display_name": "Python 3"
    },
    "language_info": {
      "name": "python"
    }
  },
  "cells": [
    {
      "cell_type": "markdown",
      "source": [
        "# Проверка нового алгоритма рекомендаций"
      ],
      "metadata": {
        "id": "Z8yT6gBDylzT"
      }
    },
    {
      "cell_type": "markdown",
      "source": [
        "## Постановка задачи"
      ],
      "metadata": {
        "id": "ysUTWNWXyWfo"
      }
    },
    {
      "cell_type": "markdown",
      "source": [
        "Одна из важных бизнес-задач для руководства компании - увеличение времени пользования приложением. Один из путей решения этой задачи - повышение интереса к публикуемым постам. Команда ML сделала новый алгоритм рекомендаций новостей в ленте.  \n",
        "\n",
        "Задача проведения A/B  теста - проверка гипотезы о том, что новый алгоритм повысит интерес к ленте новостей."
      ],
      "metadata": {
        "id": "UuxNzGTt0XP2"
      }
    },
    {
      "cell_type": "markdown",
      "source": [
        "## Выбор подходящих метрик"
      ],
      "metadata": {
        "id": "7SY5kgxayaGd"
      }
    },
    {
      "cell_type": "markdown",
      "source": [
        "Интерес пользователя выражается реакцией \"like\" на просмотренный пост.\n",
        "Увеличение CTR из просмотров в лайки будет говорить, что посты действительно стали интереснее.\n",
        "\n",
        "- Нулевая гипотеза: CTR в двух группах на самом деле не отличаются и наблюдаемые различия случайны.\n",
        "- Альтернативная гипотеза: CTR в двух группах статистически значимо отличаются."
      ],
      "metadata": {
        "id": "rZcHozmg3oV2"
      }
    },
    {
      "cell_type": "markdown",
      "source": [
        "## Дизайн эксперимента"
      ],
      "metadata": {
        "id": "qAkRULHOycCV"
      }
    },
    {
      "cell_type": "markdown",
      "source": [
        "### Проверка системы сплитования"
      ],
      "metadata": {
        "id": "rCOB4k_w-th-"
      }
    },
    {
      "cell_type": "markdown",
      "source": [
        "Для проверки того, что группы, на которые мы побили пользователей, не отличаются друг от друга до тех пор, пока мы не выкатили на них новую функциональность с 21.06.2024 по 27.06.2024 проводится А/А-тест."
      ],
      "metadata": {
        "id": "zipYe2oM__Yh"
      }
    },
    {
      "cell_type": "code",
      "execution_count": 1,
      "metadata": {
        "tags": [],
        "id": "c983c699-16a1-4f8a-8508-f569fe433c04"
      },
      "outputs": [],
      "source": [
        "import pandas as pd\n",
        "import matplotlib.pyplot as plt\n",
        "import seaborn as sns\n",
        "import scipy.stats as st\n",
        "import numpy as np"
      ]
    },
    {
      "cell_type": "code",
      "source": [
        "feed_groups_aa = pd.read_csv('/content/drive/MyDrive/Colab Notebooks/feed_groups_aa.csv')"
      ],
      "metadata": {
        "id": "lm0WCGL6D8pK"
      },
      "execution_count": null,
      "outputs": []
    },
    {
      "cell_type": "code",
      "execution_count": null,
      "metadata": {
        "id": "2f24fc81-4ed1-4232-b6c1-c98c9a97dc30"
      },
      "outputs": [],
      "source": [
        "feed_aa_group_2 = feed_groups_aa[feed_groups_aa['exp_group'] == 2] #данные о пользователях из группы 2"
      ]
    },
    {
      "cell_type": "code",
      "execution_count": null,
      "metadata": {
        "tags": [],
        "id": "37db5dfd-32b0-450b-8c1f-b8c13cb10c2c"
      },
      "outputs": [],
      "source": [
        "feed_aa_group_3 = feed_groups_aa[feed_groups_aa['exp_group'] == 3] #данные о пользователях из группы 3"
      ]
    },
    {
      "cell_type": "markdown",
      "metadata": {
        "id": "928042dd-c86b-4256-ade6-57c5a01f7456"
      },
      "source": [
        "#### Проверка данных в группах"
      ]
    },
    {
      "cell_type": "code",
      "execution_count": null,
      "metadata": {
        "collapsed": true,
        "jupyter": {
          "outputs_hidden": true,
          "source_hidden": true
        },
        "tags": [],
        "id": "53c61df1-46ad-4f1f-82e0-7811ee79c2a5",
        "outputId": "e6ce98aa-a948-491d-9c10-f165c9539141",
        "colab": {
          "base_uri": "https://localhost:8080/"
        }
      },
      "outputs": [
        {
          "output_type": "stream",
          "name": "stdout",
          "text": [
            "<class 'pandas.core.frame.DataFrame'>\n",
            "RangeIndex: 16787 entries, 0 to 16786\n",
            "Data columns (total 6 columns):\n",
            " #   Column      Non-Null Count  Dtype  \n",
            "---  ------      --------------  -----  \n",
            " 0   Unnamed: 0  16787 non-null  int64  \n",
            " 1   exp_group   16787 non-null  int64  \n",
            " 2   user_id     16787 non-null  int64  \n",
            " 3   likes       16787 non-null  int64  \n",
            " 4   views       16787 non-null  int64  \n",
            " 5   ctr         16787 non-null  float64\n",
            "dtypes: float64(1), int64(5)\n",
            "memory usage: 787.0 KB\n"
          ]
        }
      ],
      "source": [
        "feed_groups_aa.info() #проверка на пропуски в данных"
      ]
    },
    {
      "cell_type": "code",
      "execution_count": null,
      "metadata": {
        "collapsed": true,
        "jupyter": {
          "outputs_hidden": true,
          "source_hidden": true
        },
        "tags": [],
        "id": "dc0ef1e3-a5e8-469d-bb68-1122fd6d4078",
        "outputId": "9fd4dbc2-1a1a-46ac-e3c6-c06a850f4175",
        "colab": {
          "base_uri": "https://localhost:8080/"
        }
      },
      "outputs": [
        {
          "output_type": "execute_result",
          "data": {
            "text/plain": [
              "16787"
            ]
          },
          "metadata": {},
          "execution_count": 7
        }
      ],
      "source": [
        "feed_groups_aa.user_id.nunique() # проверка на повторы id пользователей"
      ]
    },
    {
      "cell_type": "code",
      "execution_count": null,
      "metadata": {
        "collapsed": true,
        "jupyter": {
          "outputs_hidden": true,
          "source_hidden": true
        },
        "tags": [],
        "id": "5d1b6887-3467-465d-9e14-f2538adf4b2e",
        "outputId": "d5693ef2-dda3-47fb-8c80-3a95ab17666b",
        "colab": {
          "base_uri": "https://localhost:8080/"
        }
      },
      "outputs": [
        {
          "output_type": "execute_result",
          "data": {
            "text/plain": [
              "0.4981235479835587"
            ]
          },
          "metadata": {},
          "execution_count": 8
        }
      ],
      "source": [
        "feed_aa_group_2.user_id.nunique() / feed_groups_aa.user_id.nunique() # доля пользователей из группы 2"
      ]
    },
    {
      "cell_type": "markdown",
      "metadata": {
        "id": "0481dfc9-378f-49de-a9ec-fc201e5dbefa"
      },
      "source": [
        "#### Анализ результатов А-А теста"
      ]
    },
    {
      "cell_type": "code",
      "execution_count": null,
      "metadata": {
        "id": "88824658-82f8-4b3f-b13d-93247cc515e6"
      },
      "outputs": [],
      "source": [
        "pvalue = pd.Series() # пустая серия для записи значений p-value\n",
        "for i in range(10000):\n",
        "    sample_group_2 = feed_aa_group_2.sample(n=500, replace=False) #создание подвыборки без повторения в 500 юзеров из группы 2\n",
        "    sample_group_3 = feed_aa_group_3.sample(n=500, replace=False) #создание подвыборки без повторения в 500 юзеров из группы 3\n",
        "    results = st.ttest_ind(sample_group_2.ctr,\n",
        "                sample_group_3.ctr,\n",
        "                equal_var=False) #сравнение подвыборок t-testом\n",
        "    pvalue[i] = results.pvalue #запись значений p-value"
      ]
    },
    {
      "cell_type": "code",
      "execution_count": null,
      "metadata": {
        "id": "ccbdd28b-1ae4-4d79-975b-691c9d3671e8"
      },
      "outputs": [],
      "source": [
        "feed_aa_p_values = pd.DataFrame(pvalue).rename(columns={0:\"pvalue\"})"
      ]
    },
    {
      "cell_type": "code",
      "execution_count": null,
      "metadata": {
        "id": "ef809195-7844-4e29-af6b-c90d10c49ec9",
        "outputId": "344950aa-e552-4839-e50e-ecef0f9312f2",
        "colab": {
          "base_uri": "https://localhost:8080/",
          "height": 542
        }
      },
      "outputs": [
        {
          "output_type": "display_data",
          "data": {
            "text/plain": [
              "<Figure size 1000x600 with 1 Axes>"
            ],
            "image/png": "[encoded data removed]"
          },
          "metadata": {}
        }
      ],
      "source": [
        "f, ax = plt.subplots(figsize=(10, 6))\n",
        "# sns.displot(data=feed_aa_p_values, x=\"pvalue\")\n",
        "groups = sns.histplot(data = feed_aa_p_values,\n",
        "              x='pvalue',\n",
        "              kde=False)#гистограмма распределения получившихся 10000 p-values"
      ]
    },
    {
      "cell_type": "code",
      "execution_count": null,
      "metadata": {
        "id": "fba69ecc-4a47-4ce8-92dd-c11c57877a79",
        "outputId": "feede293-7987-4978-a807-eb840428d4d7",
        "colab": {
          "base_uri": "https://localhost:8080/"
        }
      },
      "outputs": [
        {
          "output_type": "execute_result",
          "data": {
            "text/plain": [
              "4.59"
            ]
          },
          "metadata": {},
          "execution_count": 12
        }
      ],
      "source": [
        "feed_aa_p_values.query('pvalue <= 0.05').count().iloc[0] / 100 #процент значений p-values меньше либо равных 0.05"
      ]
    },
    {
      "cell_type": "markdown",
      "metadata": {
        "id": "e9967d28-4ae2-4604-afb5-a47f19cfcbc9"
      },
      "source": [
        "#### Вывод"
      ]
    },
    {
      "cell_type": "markdown",
      "metadata": {
        "id": "9c97a9cc-dbae-4e31-b40b-59b80f1802e4"
      },
      "source": [
        "Статистически значимые различия между группой 2 и группой 3 получились в 4,59% случаев, что не превышает уровень значимости в 5%. Система сплитования работает корректно."
      ]
    },
    {
      "cell_type": "markdown",
      "source": [
        "## Сбор данных"
      ],
      "metadata": {
        "id": "vpdJAEyKyd-q"
      }
    },
    {
      "cell_type": "markdown",
      "metadata": {
        "id": "8cf7b0b3-ee01-499f-97af-2fa412823b8e"
      },
      "source": [
        "Даты проведения A/B  теста: с '2024-06-28' по '2024-07-04'"
      ]
    },
    {
      "cell_type": "markdown",
      "metadata": {
        "id": "8c78e5aa-23b1-48f4-925a-c3ce13db2e29"
      },
      "source": [
        "  * Группа 2 - тест\n",
        "  * Группа 1 - контроль"
      ]
    },
    {
      "cell_type": "markdown",
      "source": [
        "## Эксплораторный анализ и предобработка"
      ],
      "metadata": {
        "id": "ZfUQDb9xyfyG"
      }
    },
    {
      "cell_type": "code",
      "source": [
        "feed_groups_ab_2_1 = pd.read_csv('/content/drive/MyDrive/feed_groups_ab_2_1.csv')"
      ],
      "metadata": {
        "id": "Q03otkMWOBBP"
      },
      "execution_count": 2,
      "outputs": []
    },
    {
      "cell_type": "code",
      "execution_count": 3,
      "metadata": {
        "tags": [],
        "id": "88d67231-d3e1-4a0d-98f7-f70c6a3a6616"
      },
      "outputs": [],
      "source": [
        "feed_ab_group_test = feed_groups_ab_2_1[feed_groups_ab_2_1['exp_group'] == 2] #данные о пользователях из тестовой группы (группа 2)"
      ]
    },
    {
      "cell_type": "code",
      "execution_count": 4,
      "metadata": {
        "tags": [],
        "id": "c3f6cc16-36e1-4a0b-bed6-906249ef7d7d"
      },
      "outputs": [],
      "source": [
        "feed_ab_group_control = feed_groups_ab_2_1[feed_groups_ab_2_1['exp_group'] == 1] #данные о пользователях из контрольной группы (группа 1)"
      ]
    },
    {
      "cell_type": "markdown",
      "metadata": {
        "id": "7a3bfb21-ebb8-42c9-9c6c-1af72b5a77c8"
      },
      "source": [
        "### Проверка данных в группах"
      ]
    },
    {
      "cell_type": "code",
      "execution_count": 5,
      "metadata": {
        "collapsed": true,
        "jupyter": {
          "outputs_hidden": true,
          "source_hidden": true
        },
        "tags": [],
        "id": "eb6a1c9e-9ec3-4cb8-b502-817822d26dcd",
        "outputId": "3a20b3ef-3a22-4973-d010-a0b237ac1dd4",
        "colab": {
          "base_uri": "https://localhost:8080/"
        }
      },
      "outputs": [
        {
          "output_type": "stream",
          "name": "stdout",
          "text": [
            "<class 'pandas.core.frame.DataFrame'>\n",
            "RangeIndex: 19897 entries, 0 to 19896\n",
            "Data columns (total 6 columns):\n",
            " #   Column      Non-Null Count  Dtype  \n",
            "---  ------      --------------  -----  \n",
            " 0   Unnamed: 0  19897 non-null  int64  \n",
            " 1   exp_group   19897 non-null  int64  \n",
            " 2   user_id     19897 non-null  int64  \n",
            " 3   likes       19897 non-null  int64  \n",
            " 4   views       19897 non-null  int64  \n",
            " 5   ctr         19897 non-null  float64\n",
            "dtypes: float64(1), int64(5)\n",
            "memory usage: 932.8 KB\n"
          ]
        }
      ],
      "source": [
        "feed_groups_ab_2_1.info()"
      ]
    },
    {
      "cell_type": "code",
      "execution_count": 6,
      "metadata": {
        "collapsed": true,
        "jupyter": {
          "outputs_hidden": true,
          "source_hidden": true
        },
        "tags": [],
        "id": "bc1dca18-c37b-4890-b1ca-f9183c7127e4",
        "outputId": "556bcd1c-5b39-433f-d712-3ffc8027723f",
        "colab": {
          "base_uri": "https://localhost:8080/"
        }
      },
      "outputs": [
        {
          "output_type": "execute_result",
          "data": {
            "text/plain": [
              "19897"
            ]
          },
          "metadata": {},
          "execution_count": 6
        }
      ],
      "source": [
        "feed_groups_ab_2_1.user_id.nunique() # проверка на повторы id пользователей"
      ]
    },
    {
      "cell_type": "code",
      "execution_count": 7,
      "metadata": {
        "collapsed": true,
        "jupyter": {
          "outputs_hidden": true,
          "source_hidden": true
        },
        "tags": [],
        "id": "defbecfd-eab4-4d7e-9050-f8b07e053c8f",
        "outputId": "ee399122-3089-4276-9ccf-af1c64712b95",
        "colab": {
          "base_uri": "https://localhost:8080/"
        }
      },
      "outputs": [
        {
          "output_type": "execute_result",
          "data": {
            "text/plain": [
              "0.4964064934412223"
            ]
          },
          "metadata": {},
          "execution_count": 7
        }
      ],
      "source": [
        "feed_ab_group_test.user_id.nunique() / feed_groups_ab_2_1.user_id.nunique() # доля пользователей из группы 2"
      ]
    },
    {
      "cell_type": "markdown",
      "metadata": {
        "id": "b85d7e1a-287d-49ac-ab2a-a3dc1e01a241"
      },
      "source": [
        "### Визуальный анализ распределений CTR в группах"
      ]
    },
    {
      "cell_type": "code",
      "execution_count": 13,
      "metadata": {
        "tags": [],
        "id": "186dba50-1812-4e99-8ede-0b540614a664",
        "outputId": "b5f2f249-d2b0-4eda-a10f-ba45e192f552",
        "colab": {
          "base_uri": "https://localhost:8080/",
          "height": 542
        }
      },
      "outputs": [
        {
          "output_type": "display_data",
          "data": {
            "text/plain": [
              "<Figure size 1000x600 with 1 Axes>"
            ],
            "image/png": "[encoded data removed]"
          },
          "metadata": {}
        }
      ],
      "source": [
        "f, ax = plt.subplots(figsize=(10, 6))\n",
        "groups = sns.histplot(data = feed_groups_ab_2_1,\n",
        "              x='ctr',\n",
        "              hue='exp_group',\n",
        "              palette = ['r', 'b'],\n",
        "              alpha=0.5,\n",
        "              kde=False) #гистограммы распределений СTR в группах (1-контроль, 2-тест)"
      ]
    },
    {
      "cell_type": "markdown",
      "metadata": {
        "id": "a9cc04de-3cca-49a3-ad0f-e3e1f10e7048"
      },
      "source": [
        "Бимодальное распределение значений CTR в тестовой группе может говорить о том, что новый алгоритм рекомендаций \"поделил\" пользователей на две группы:\n",
        "    \n",
        "  1. пользователи, которым новые рекомендации скорее не подошли (мода смещена влево от тестовой группы). Возможно эти пользователи не любят смотреть посты про одно и то же.\n",
        "  2. пользователи, которым новые рекомендации чаще нравились (мода смещена вправо от тестовой группы). Любители посмотреть кучу постов про одно и то же.\n",
        "    \n",
        "При этом пик числа пользователей с болеее низким CTR выше, чем пользователей с болеее высоким CTR. Что может говорить о том, что новый алгоритм скорее не приводит к поставленной цели - повышению CTR."
      ]
    },
    {
      "cell_type": "markdown",
      "source": [
        "## Статистический вывод"
      ],
      "metadata": {
        "id": "x2O0Ncv3yhth"
      }
    },
    {
      "cell_type": "markdown",
      "metadata": {
        "id": "cda308d6-b4d7-4613-9fb9-c61110721645"
      },
      "source": [
        "Форма распределения CTR в тестовой группе не близка к нормальной и отличается от контрольной группы.\n",
        "   \n",
        "Для подсчета разницы в CTR в двух группах применим Пуассоновский бутстрап.\n",
        "\n",
        "\n",
        "H0 - общегрупповые CTR в группах 2 и 1 не различаются\n",
        "\n",
        "H1 - есть различия в общегрупповых CTR в группах 2 и 1"
      ]
    },
    {
      "cell_type": "code",
      "execution_count": 11,
      "metadata": {
        "id": "12ad4ea1-c3d8-449f-b400-0bf9167ea741",
        "outputId": "32b0977f-f29b-4ce2-cc56-1fc34fa7efb5",
        "colab": {
          "base_uri": "https://localhost:8080/",
          "height": 448
        }
      },
      "outputs": [
        {
          "output_type": "execute_result",
          "data": {
            "text/plain": [
              "<Axes: ylabel='Count'>"
            ]
          },
          "metadata": {},
          "execution_count": 11
        },
        {
          "output_type": "display_data",
          "data": {
            "text/plain": [
              "<Figure size 640x480 with 1 Axes>"
            ],
            "image/png": "[encoded data removed]"
          },
          "metadata": {}
        }
      ],
      "source": [
        "def bootstrap(likes1, views1, likes2, views2, n_bootstrap=2000):\n",
        "\n",
        "    poisson_bootstraps1 = st.poisson(1).rvs(\n",
        "        (n_bootstrap, len(likes1))).astype(np.int64)\n",
        "\n",
        "\n",
        "    poisson_bootstraps2 = st.poisson(1).rvs(\n",
        "            (n_bootstrap, len(likes2))).astype(np.int64)\n",
        "\n",
        "    globalCTR1 = (poisson_bootstraps1*likes1).sum(axis=1)/(poisson_bootstraps1*views1).sum(axis=1)\n",
        "    globalCTR2 = (poisson_bootstraps2*likes2).sum(axis=1)/(poisson_bootstraps2*views2).sum(axis=1)\n",
        "\n",
        "    return globalCTR1, globalCTR2\n",
        "\n",
        "likes1 = feed_ab_group_test.likes.to_numpy()\n",
        "views1 = feed_ab_group_test.views.to_numpy()\n",
        "likes2 = feed_ab_group_control.likes.to_numpy()\n",
        "views2 = feed_ab_group_control.views.to_numpy()\n",
        "\n",
        "ctr_test, ctr_control = bootstrap(likes1, views1, likes2, views2)\n",
        "\n",
        "sns.histplot(ctr_test)\n",
        "sns.histplot(ctr_control)"
      ]
    },
    {
      "cell_type": "code",
      "execution_count": 12,
      "metadata": {
        "id": "0b650826-9cc3-4c2b-baee-23c1954d615b",
        "outputId": "424e1bc1-444b-4d04-9087-d7b72a2b82f3",
        "colab": {
          "base_uri": "https://localhost:8080/",
          "height": 448
        }
      },
      "outputs": [
        {
          "output_type": "execute_result",
          "data": {
            "text/plain": [
              "<Axes: ylabel='Count'>"
            ]
          },
          "metadata": {},
          "execution_count": 12
        },
        {
          "output_type": "display_data",
          "data": {
            "text/plain": [
              "<Figure size 640x480 with 1 Axes>"
            ],
            "image/png": "[encoded data removed]"
          },
          "metadata": {}
        }
      ],
      "source": [
        "sns.histplot(ctr_test - ctr_control) #Разница между глобальными CTR"
      ]
    },
    {
      "cell_type": "markdown",
      "metadata": {
        "id": "c27c1971-513c-43d6-9e44-46abaaf85db4"
      },
      "source": [
        "# Вывод"
      ]
    },
    {
      "cell_type": "markdown",
      "metadata": {
        "id": "c53a153f-8f70-41fe-811f-72d35e732a9c"
      },
      "source": [
        "По результатам статистической оценки различий в общегрупповом CTR, новый алгоритм рекомендаций приводит к снижению CTR на 0,4-1,4%. Что говорит о том, что раскатывать новый алгоритм на всех новых пользователей не стоит."
      ]
    }
  ]
}